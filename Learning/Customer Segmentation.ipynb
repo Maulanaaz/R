{
 "cells": [
  {
   "cell_type": "markdown",
   "metadata": {},
   "source": [
    "# K-Means Clustering\n",
    "Here,we will use algorithm named K-Means Clustering.K-means clustering is a type of unsupervised learning, which is used when you have unlabeled data (i.e., data without defined categories or groups). The goal of this algorithm is to find groups in the data, with the number of groups represented by the variable K. The algorithm works iteratively to assign each data point to one of K groups based on the features that are provided. Data points are clustered based on feature similarity.This can be used to confirm business assumptions about what types of groups exist or to identify unknown groups in complex data sets. Once the algorithm has been run and the groups are defined, any new data can be easily assigned to the correct group."
   ]
  },
  {
   "cell_type": "code",
   "execution_count": 32,
   "metadata": {},
   "outputs": [
    {
     "data": {
      "text/html": [
       "<table>\n",
       "<thead><tr><th scope=col>Customer_ID</th><th scope=col>Nama.Pelanggan</th><th scope=col>Jenis.Kelamin</th><th scope=col>Umur</th><th scope=col>Profesi</th><th scope=col>Tipe.Residen</th><th scope=col>NilaiBelanjaSetahun</th></tr></thead>\n",
       "<tbody>\n",
       "\t<tr><td>CUST-001           </td><td>Budi Anggara       </td><td>Pria               </td><td>58                 </td><td>Wiraswasta         </td><td>Sector             </td><td> 9497927           </td></tr>\n",
       "\t<tr><td>CUST-002           </td><td>Shirley Ratuwati   </td><td>Wanita             </td><td>14                 </td><td>Pelajar            </td><td>Cluster            </td><td> 2722700           </td></tr>\n",
       "\t<tr><td>CUST-003           </td><td>Agus Cahyono       </td><td>Pria               </td><td>48                 </td><td>Professional       </td><td>Cluster            </td><td> 5286429           </td></tr>\n",
       "\t<tr><td>CUST-004           </td><td>Antonius Winarta   </td><td>Pria               </td><td>53                 </td><td>Professional       </td><td>Cluster            </td><td> 5204498           </td></tr>\n",
       "\t<tr><td>CUST-005           </td><td>Ibu Sri Wahyuni, IR</td><td>Wanita             </td><td>41                 </td><td>Wiraswasta         </td><td>Cluster            </td><td>10615206           </td></tr>\n",
       "\t<tr><td>CUST-006           </td><td>Rosalina Kurnia    </td><td>Wanita             </td><td>24                 </td><td>Professional       </td><td>Cluster            </td><td> 5215541           </td></tr>\n",
       "</tbody>\n",
       "</table>\n"
      ],
      "text/latex": [
       "\\begin{tabular}{r|lllllll}\n",
       " Customer\\_ID & Nama.Pelanggan & Jenis.Kelamin & Umur & Profesi & Tipe.Residen & NilaiBelanjaSetahun\\\\\n",
       "\\hline\n",
       "\t CUST-001            & Budi Anggara        & Pria                & 58                  & Wiraswasta          & Sector              &  9497927           \\\\\n",
       "\t CUST-002            & Shirley Ratuwati    & Wanita              & 14                  & Pelajar             & Cluster             &  2722700           \\\\\n",
       "\t CUST-003            & Agus Cahyono        & Pria                & 48                  & Professional        & Cluster             &  5286429           \\\\\n",
       "\t CUST-004            & Antonius Winarta    & Pria                & 53                  & Professional        & Cluster             &  5204498           \\\\\n",
       "\t CUST-005            & Ibu Sri Wahyuni, IR & Wanita              & 41                  & Wiraswasta          & Cluster             & 10615206           \\\\\n",
       "\t CUST-006            & Rosalina Kurnia     & Wanita              & 24                  & Professional        & Cluster             &  5215541           \\\\\n",
       "\\end{tabular}\n"
      ],
      "text/markdown": [
       "\n",
       "| Customer_ID | Nama.Pelanggan | Jenis.Kelamin | Umur | Profesi | Tipe.Residen | NilaiBelanjaSetahun |\n",
       "|---|---|---|---|---|---|---|\n",
       "| CUST-001            | Budi Anggara        | Pria                | 58                  | Wiraswasta          | Sector              |  9497927            |\n",
       "| CUST-002            | Shirley Ratuwati    | Wanita              | 14                  | Pelajar             | Cluster             |  2722700            |\n",
       "| CUST-003            | Agus Cahyono        | Pria                | 48                  | Professional        | Cluster             |  5286429            |\n",
       "| CUST-004            | Antonius Winarta    | Pria                | 53                  | Professional        | Cluster             |  5204498            |\n",
       "| CUST-005            | Ibu Sri Wahyuni, IR | Wanita              | 41                  | Wiraswasta          | Cluster             | 10615206            |\n",
       "| CUST-006            | Rosalina Kurnia     | Wanita              | 24                  | Professional        | Cluster             |  5215541            |\n",
       "\n"
      ],
      "text/plain": [
       "  Customer_ID Nama.Pelanggan      Jenis.Kelamin Umur Profesi      Tipe.Residen\n",
       "1 CUST-001    Budi Anggara        Pria          58   Wiraswasta   Sector      \n",
       "2 CUST-002    Shirley Ratuwati    Wanita        14   Pelajar      Cluster     \n",
       "3 CUST-003    Agus Cahyono        Pria          48   Professional Cluster     \n",
       "4 CUST-004    Antonius Winarta    Pria          53   Professional Cluster     \n",
       "5 CUST-005    Ibu Sri Wahyuni, IR Wanita        41   Wiraswasta   Cluster     \n",
       "6 CUST-006    Rosalina Kurnia     Wanita        24   Professional Cluster     \n",
       "  NilaiBelanjaSetahun\n",
       "1  9497927           \n",
       "2  2722700           \n",
       "3  5286429           \n",
       "4  5204498           \n",
       "5 10615206           \n",
       "6  5215541           "
      ]
     },
     "metadata": {},
     "output_type": "display_data"
    }
   ],
   "source": [
    "#Reading the data\n",
    "dataset <- read.csv(\"https://academy.dqlab.id/dataset/customer_segments.txt\",sep=\"\\t\")\n",
    "head(dataset)"
   ]
  },
  {
   "cell_type": "code",
   "execution_count": 33,
   "metadata": {},
   "outputs": [
    {
     "data": {
      "text/html": [
       "<table>\n",
       "<thead><tr><th scope=col>Jenis.Kelamin</th><th scope=col>Umur</th><th scope=col>Profesi</th><th scope=col>Tipe.Residen</th></tr></thead>\n",
       "<tbody>\n",
       "\t<tr><td>Pria        </td><td>58          </td><td>Wiraswasta  </td><td>Sector      </td></tr>\n",
       "\t<tr><td>Wanita      </td><td>14          </td><td>Pelajar     </td><td>Cluster     </td></tr>\n",
       "\t<tr><td>Pria        </td><td>48          </td><td>Professional</td><td>Cluster     </td></tr>\n",
       "\t<tr><td>Pria        </td><td>53          </td><td>Professional</td><td>Cluster     </td></tr>\n",
       "\t<tr><td>Wanita      </td><td>41          </td><td>Wiraswasta  </td><td>Cluster     </td></tr>\n",
       "\t<tr><td>Wanita      </td><td>24          </td><td>Professional</td><td>Cluster     </td></tr>\n",
       "</tbody>\n",
       "</table>\n"
      ],
      "text/latex": [
       "\\begin{tabular}{r|llll}\n",
       " Jenis.Kelamin & Umur & Profesi & Tipe.Residen\\\\\n",
       "\\hline\n",
       "\t Pria         & 58           & Wiraswasta   & Sector      \\\\\n",
       "\t Wanita       & 14           & Pelajar      & Cluster     \\\\\n",
       "\t Pria         & 48           & Professional & Cluster     \\\\\n",
       "\t Pria         & 53           & Professional & Cluster     \\\\\n",
       "\t Wanita       & 41           & Wiraswasta   & Cluster     \\\\\n",
       "\t Wanita       & 24           & Professional & Cluster     \\\\\n",
       "\\end{tabular}\n"
      ],
      "text/markdown": [
       "\n",
       "| Jenis.Kelamin | Umur | Profesi | Tipe.Residen |\n",
       "|---|---|---|---|\n",
       "| Pria         | 58           | Wiraswasta   | Sector       |\n",
       "| Wanita       | 14           | Pelajar      | Cluster      |\n",
       "| Pria         | 48           | Professional | Cluster      |\n",
       "| Pria         | 53           | Professional | Cluster      |\n",
       "| Wanita       | 41           | Wiraswasta   | Cluster      |\n",
       "| Wanita       | 24           | Professional | Cluster      |\n",
       "\n"
      ],
      "text/plain": [
       "  Jenis.Kelamin Umur Profesi      Tipe.Residen\n",
       "1 Pria          58   Wiraswasta   Sector      \n",
       "2 Wanita        14   Pelajar      Cluster     \n",
       "3 Pria          48   Professional Cluster     \n",
       "4 Pria          53   Professional Cluster     \n",
       "5 Wanita        41   Wiraswasta   Cluster     \n",
       "6 Wanita        24   Professional Cluster     "
      ]
     },
     "metadata": {},
     "output_type": "display_data"
    }
   ],
   "source": [
    "#Saving the column that needed for K-Means clustering\n",
    "customer <- c(\"Jenis.Kelamin\",\"Umur\",\"Profesi\",\"Tipe.Residen\")\n",
    "used <- dataset[customer]\n",
    "head(used)"
   ]
  },
  {
   "cell_type": "code",
   "execution_count": 34,
   "metadata": {},
   "outputs": [
    {
     "data": {
      "text/html": [
       "<table>\n",
       "<thead><tr><th scope=col>Jenis.Kelamin</th><th scope=col>Profesi</th><th scope=col>Tipe.Residen</th></tr></thead>\n",
       "<tbody>\n",
       "\t<tr><td>1</td><td>5</td><td>2</td></tr>\n",
       "\t<tr><td>2</td><td>3</td><td>1</td></tr>\n",
       "\t<tr><td>1</td><td>4</td><td>1</td></tr>\n",
       "\t<tr><td>1</td><td>4</td><td>1</td></tr>\n",
       "\t<tr><td>2</td><td>5</td><td>1</td></tr>\n",
       "\t<tr><td>2</td><td>4</td><td>1</td></tr>\n",
       "</tbody>\n",
       "</table>\n"
      ],
      "text/latex": [
       "\\begin{tabular}{lll}\n",
       " Jenis.Kelamin & Profesi & Tipe.Residen\\\\\n",
       "\\hline\n",
       "\t 1 & 5 & 2\\\\\n",
       "\t 2 & 3 & 1\\\\\n",
       "\t 1 & 4 & 1\\\\\n",
       "\t 1 & 4 & 1\\\\\n",
       "\t 2 & 5 & 1\\\\\n",
       "\t 2 & 4 & 1\\\\\n",
       "\\end{tabular}\n"
      ],
      "text/markdown": [
       "\n",
       "| Jenis.Kelamin | Profesi | Tipe.Residen |\n",
       "|---|---|---|\n",
       "| 1 | 5 | 2 |\n",
       "| 2 | 3 | 1 |\n",
       "| 1 | 4 | 1 |\n",
       "| 1 | 4 | 1 |\n",
       "| 2 | 5 | 1 |\n",
       "| 2 | 4 | 1 |\n",
       "\n"
      ],
      "text/plain": [
       "     Jenis.Kelamin Profesi Tipe.Residen\n",
       "[1,] 1             5       2           \n",
       "[2,] 2             3       1           \n",
       "[3,] 1             4       1           \n",
       "[4,] 1             4       1           \n",
       "[5,] 2             5       1           \n",
       "[6,] 2             4       1           "
      ]
     },
     "metadata": {},
     "output_type": "display_data"
    }
   ],
   "source": [
    "#Changing the data type of \"Jenis.Kelamin\",\"Profesi\" and \"Tipe.Residen\" to matrix\n",
    "matrixed <- data.matrix(dataset[c(\"Jenis.Kelamin\",\"Profesi\",\"Tipe.Residen\")])\n",
    "head(matrixed)"
   ]
  },
  {
   "cell_type": "code",
   "execution_count": 35,
   "metadata": {},
   "outputs": [
    {
     "data": {
      "text/html": [
       "<table>\n",
       "<thead><tr><th scope=col>Jenis.Kelamin</th><th scope=col>Umur</th><th scope=col>Profesi</th><th scope=col>Tipe.Residen</th><th scope=col>Jenis.Kelamin.1</th><th scope=col>Profesi.1</th><th scope=col>Tipe.Residen.1</th></tr></thead>\n",
       "<tbody>\n",
       "\t<tr><td>Pria        </td><td>58          </td><td>Wiraswasta  </td><td>Sector      </td><td>1           </td><td>5           </td><td>2           </td></tr>\n",
       "\t<tr><td>Wanita      </td><td>14          </td><td>Pelajar     </td><td>Cluster     </td><td>2           </td><td>3           </td><td>1           </td></tr>\n",
       "\t<tr><td>Pria        </td><td>48          </td><td>Professional</td><td>Cluster     </td><td>1           </td><td>4           </td><td>1           </td></tr>\n",
       "\t<tr><td>Pria        </td><td>53          </td><td>Professional</td><td>Cluster     </td><td>1           </td><td>4           </td><td>1           </td></tr>\n",
       "\t<tr><td>Wanita      </td><td>41          </td><td>Wiraswasta  </td><td>Cluster     </td><td>2           </td><td>5           </td><td>1           </td></tr>\n",
       "\t<tr><td>Wanita      </td><td>24          </td><td>Professional</td><td>Cluster     </td><td>2           </td><td>4           </td><td>1           </td></tr>\n",
       "</tbody>\n",
       "</table>\n"
      ],
      "text/latex": [
       "\\begin{tabular}{r|lllllll}\n",
       " Jenis.Kelamin & Umur & Profesi & Tipe.Residen & Jenis.Kelamin.1 & Profesi.1 & Tipe.Residen.1\\\\\n",
       "\\hline\n",
       "\t Pria         & 58           & Wiraswasta   & Sector       & 1            & 5            & 2           \\\\\n",
       "\t Wanita       & 14           & Pelajar      & Cluster      & 2            & 3            & 1           \\\\\n",
       "\t Pria         & 48           & Professional & Cluster      & 1            & 4            & 1           \\\\\n",
       "\t Pria         & 53           & Professional & Cluster      & 1            & 4            & 1           \\\\\n",
       "\t Wanita       & 41           & Wiraswasta   & Cluster      & 2            & 5            & 1           \\\\\n",
       "\t Wanita       & 24           & Professional & Cluster      & 2            & 4            & 1           \\\\\n",
       "\\end{tabular}\n"
      ],
      "text/markdown": [
       "\n",
       "| Jenis.Kelamin | Umur | Profesi | Tipe.Residen | Jenis.Kelamin.1 | Profesi.1 | Tipe.Residen.1 |\n",
       "|---|---|---|---|---|---|---|\n",
       "| Pria         | 58           | Wiraswasta   | Sector       | 1            | 5            | 2            |\n",
       "| Wanita       | 14           | Pelajar      | Cluster      | 2            | 3            | 1            |\n",
       "| Pria         | 48           | Professional | Cluster      | 1            | 4            | 1            |\n",
       "| Pria         | 53           | Professional | Cluster      | 1            | 4            | 1            |\n",
       "| Wanita       | 41           | Wiraswasta   | Cluster      | 2            | 5            | 1            |\n",
       "| Wanita       | 24           | Professional | Cluster      | 2            | 4            | 1            |\n",
       "\n"
      ],
      "text/plain": [
       "  Jenis.Kelamin Umur Profesi      Tipe.Residen Jenis.Kelamin.1 Profesi.1\n",
       "1 Pria          58   Wiraswasta   Sector       1               5        \n",
       "2 Wanita        14   Pelajar      Cluster      2               3        \n",
       "3 Pria          48   Professional Cluster      1               4        \n",
       "4 Pria          53   Professional Cluster      1               4        \n",
       "5 Wanita        41   Wiraswasta   Cluster      2               5        \n",
       "6 Wanita        24   Professional Cluster      2               4        \n",
       "  Tipe.Residen.1\n",
       "1 2             \n",
       "2 1             \n",
       "3 1             \n",
       "4 1             \n",
       "5 1             \n",
       "6 1             "
      ]
     },
     "metadata": {},
     "output_type": "display_data"
    }
   ],
   "source": [
    "#Merging the variable\n",
    "newmerg <- data.frame(used,matrixed)\n",
    "head(newmerg)"
   ]
  },
  {
   "cell_type": "code",
   "execution_count": 36,
   "metadata": {},
   "outputs": [
    {
     "data": {
      "text/html": [
       "<ol class=list-inline>\n",
       "\t<li>9.497927</li>\n",
       "\t<li>2.7227</li>\n",
       "\t<li>5.286429</li>\n",
       "\t<li>5.204498</li>\n",
       "\t<li>10.615206</li>\n",
       "\t<li>5.215541</li>\n",
       "\t<li>9.83726</li>\n",
       "\t<li>5.223569</li>\n",
       "\t<li>5.993218</li>\n",
       "\t<li>5.257448</li>\n",
       "\t<li>5.987367</li>\n",
       "\t<li>5.941914</li>\n",
       "\t<li>9.333168</li>\n",
       "\t<li>9.471615</li>\n",
       "\t<li>10.365668</li>\n",
       "\t<li>5.262521</li>\n",
       "\t<li>5.677762</li>\n",
       "\t<li>5.34069</li>\n",
       "\t<li>10.884508</li>\n",
       "\t<li>2.896845</li>\n",
       "\t<li>9.22207</li>\n",
       "\t<li>5.298157</li>\n",
       "\t<li>5.23929</li>\n",
       "\t<li>10.259572</li>\n",
       "\t<li>10.721998</li>\n",
       "\t<li>5.269392</li>\n",
       "\t<li>9.114159</li>\n",
       "\t<li>6.63168</li>\n",
       "\t<li>5.271845</li>\n",
       "\t<li>5.020976</li>\n",
       "\t<li>3.042773</li>\n",
       "\t<li>10.663179</li>\n",
       "\t<li>3.047926</li>\n",
       "\t<li>9.759822</li>\n",
       "\t<li>5.962575</li>\n",
       "\t<li>9.678994</li>\n",
       "\t<li>5.972787</li>\n",
       "\t<li>10.477127</li>\n",
       "\t<li>5.257775</li>\n",
       "\t<li>2.861855</li>\n",
       "\t<li>6.820976</li>\n",
       "\t<li>9.880607</li>\n",
       "\t<li>5.26841</li>\n",
       "\t<li>9.339737</li>\n",
       "\t<li>5.211041</li>\n",
       "\t<li>10.099807</li>\n",
       "\t<li>6.130724</li>\n",
       "\t<li>10.390732</li>\n",
       "\t<li>4.992585</li>\n",
       "\t<li>10.569316</li>\n",
       "</ol>\n"
      ],
      "text/latex": [
       "\\begin{enumerate*}\n",
       "\\item 9.497927\n",
       "\\item 2.7227\n",
       "\\item 5.286429\n",
       "\\item 5.204498\n",
       "\\item 10.615206\n",
       "\\item 5.215541\n",
       "\\item 9.83726\n",
       "\\item 5.223569\n",
       "\\item 5.993218\n",
       "\\item 5.257448\n",
       "\\item 5.987367\n",
       "\\item 5.941914\n",
       "\\item 9.333168\n",
       "\\item 9.471615\n",
       "\\item 10.365668\n",
       "\\item 5.262521\n",
       "\\item 5.677762\n",
       "\\item 5.34069\n",
       "\\item 10.884508\n",
       "\\item 2.896845\n",
       "\\item 9.22207\n",
       "\\item 5.298157\n",
       "\\item 5.23929\n",
       "\\item 10.259572\n",
       "\\item 10.721998\n",
       "\\item 5.269392\n",
       "\\item 9.114159\n",
       "\\item 6.63168\n",
       "\\item 5.271845\n",
       "\\item 5.020976\n",
       "\\item 3.042773\n",
       "\\item 10.663179\n",
       "\\item 3.047926\n",
       "\\item 9.759822\n",
       "\\item 5.962575\n",
       "\\item 9.678994\n",
       "\\item 5.972787\n",
       "\\item 10.477127\n",
       "\\item 5.257775\n",
       "\\item 2.861855\n",
       "\\item 6.820976\n",
       "\\item 9.880607\n",
       "\\item 5.26841\n",
       "\\item 9.339737\n",
       "\\item 5.211041\n",
       "\\item 10.099807\n",
       "\\item 6.130724\n",
       "\\item 10.390732\n",
       "\\item 4.992585\n",
       "\\item 10.569316\n",
       "\\end{enumerate*}\n"
      ],
      "text/markdown": [
       "1. 9.497927\n",
       "2. 2.7227\n",
       "3. 5.286429\n",
       "4. 5.204498\n",
       "5. 10.615206\n",
       "6. 5.215541\n",
       "7. 9.83726\n",
       "8. 5.223569\n",
       "9. 5.993218\n",
       "10. 5.257448\n",
       "11. 5.987367\n",
       "12. 5.941914\n",
       "13. 9.333168\n",
       "14. 9.471615\n",
       "15. 10.365668\n",
       "16. 5.262521\n",
       "17. 5.677762\n",
       "18. 5.34069\n",
       "19. 10.884508\n",
       "20. 2.896845\n",
       "21. 9.22207\n",
       "22. 5.298157\n",
       "23. 5.23929\n",
       "24. 10.259572\n",
       "25. 10.721998\n",
       "26. 5.269392\n",
       "27. 9.114159\n",
       "28. 6.63168\n",
       "29. 5.271845\n",
       "30. 5.020976\n",
       "31. 3.042773\n",
       "32. 10.663179\n",
       "33. 3.047926\n",
       "34. 9.759822\n",
       "35. 5.962575\n",
       "36. 9.678994\n",
       "37. 5.972787\n",
       "38. 10.477127\n",
       "39. 5.257775\n",
       "40. 2.861855\n",
       "41. 6.820976\n",
       "42. 9.880607\n",
       "43. 5.26841\n",
       "44. 9.339737\n",
       "45. 5.211041\n",
       "46. 10.099807\n",
       "47. 6.130724\n",
       "48. 10.390732\n",
       "49. 4.992585\n",
       "50. 10.569316\n",
       "\n",
       "\n"
      ],
      "text/plain": [
       " [1]  9.497927  2.722700  5.286429  5.204498 10.615206  5.215541  9.837260\n",
       " [8]  5.223569  5.993218  5.257448  5.987367  5.941914  9.333168  9.471615\n",
       "[15] 10.365668  5.262521  5.677762  5.340690 10.884508  2.896845  9.222070\n",
       "[22]  5.298157  5.239290 10.259572 10.721998  5.269392  9.114159  6.631680\n",
       "[29]  5.271845  5.020976  3.042773 10.663179  3.047926  9.759822  5.962575\n",
       "[36]  9.678994  5.972787 10.477127  5.257775  2.861855  6.820976  9.880607\n",
       "[43]  5.268410  9.339737  5.211041 10.099807  6.130724 10.390732  4.992585\n",
       "[50] 10.569316"
      ]
     },
     "metadata": {},
     "output_type": "display_data"
    }
   ],
   "source": [
    "#Normalitating \"NilaiBelanjaSetahun\"\n",
    "dataset$NilaiBelanjaSetahun <- dataset$NilaiBelanjaSetahun / 1000000\n",
    "dataset$NilaiBelanjaSetahun"
   ]
  },
  {
   "cell_type": "code",
   "execution_count": 37,
   "metadata": {},
   "outputs": [
    {
     "data": {
      "text/html": [
       "<table>\n",
       "<thead><tr><th scope=col>Jenis.Kelamin</th><th scope=col>Jenis.Kelamin.1</th></tr></thead>\n",
       "<tbody>\n",
       "\t<tr><td>Pria  </td><td>1     </td></tr>\n",
       "\t<tr><td>Wanita</td><td>2     </td></tr>\n",
       "</tbody>\n",
       "</table>\n"
      ],
      "text/latex": [
       "\\begin{tabular}{r|ll}\n",
       " Jenis.Kelamin & Jenis.Kelamin.1\\\\\n",
       "\\hline\n",
       "\t Pria   & 1     \\\\\n",
       "\t Wanita & 2     \\\\\n",
       "\\end{tabular}\n"
      ],
      "text/markdown": [
       "\n",
       "| Jenis.Kelamin | Jenis.Kelamin.1 |\n",
       "|---|---|\n",
       "| Pria   | 1      |\n",
       "| Wanita | 2      |\n",
       "\n"
      ],
      "text/plain": [
       "  Jenis.Kelamin Jenis.Kelamin.1\n",
       "1 Pria          1              \n",
       "2 Wanita        2              "
      ]
     },
     "metadata": {},
     "output_type": "display_data"
    },
    {
     "data": {
      "text/html": [
       "<table>\n",
       "<thead><tr><th></th><th scope=col>Profesi</th><th scope=col>Profesi.1</th></tr></thead>\n",
       "<tbody>\n",
       "\t<tr><th scope=row>1</th><td>Wiraswasta      </td><td>5               </td></tr>\n",
       "\t<tr><th scope=row>2</th><td>Pelajar         </td><td>3               </td></tr>\n",
       "\t<tr><th scope=row>3</th><td>Professional    </td><td>4               </td></tr>\n",
       "\t<tr><th scope=row>17</th><td>Ibu Rumah Tangga</td><td>1               </td></tr>\n",
       "\t<tr><th scope=row>31</th><td>Mahasiswa       </td><td>2               </td></tr>\n",
       "</tbody>\n",
       "</table>\n"
      ],
      "text/latex": [
       "\\begin{tabular}{r|ll}\n",
       "  & Profesi & Profesi.1\\\\\n",
       "\\hline\n",
       "\t1 & Wiraswasta       & 5               \\\\\n",
       "\t2 & Pelajar          & 3               \\\\\n",
       "\t3 & Professional     & 4               \\\\\n",
       "\t17 & Ibu Rumah Tangga & 1               \\\\\n",
       "\t31 & Mahasiswa        & 2               \\\\\n",
       "\\end{tabular}\n"
      ],
      "text/markdown": [
       "\n",
       "| <!--/--> | Profesi | Profesi.1 |\n",
       "|---|---|---|\n",
       "| 1 | Wiraswasta       | 5                |\n",
       "| 2 | Pelajar          | 3                |\n",
       "| 3 | Professional     | 4                |\n",
       "| 17 | Ibu Rumah Tangga | 1                |\n",
       "| 31 | Mahasiswa        | 2                |\n",
       "\n"
      ],
      "text/plain": [
       "   Profesi          Profesi.1\n",
       "1  Wiraswasta       5        \n",
       "2  Pelajar          3        \n",
       "3  Professional     4        \n",
       "17 Ibu Rumah Tangga 1        \n",
       "31 Mahasiswa        2        "
      ]
     },
     "metadata": {},
     "output_type": "display_data"
    },
    {
     "data": {
      "text/html": [
       "<table>\n",
       "<thead><tr><th scope=col>Tipe.Residen</th><th scope=col>Tipe.Residen.1</th></tr></thead>\n",
       "<tbody>\n",
       "\t<tr><td>Sector </td><td>2      </td></tr>\n",
       "\t<tr><td>Cluster</td><td>1      </td></tr>\n",
       "</tbody>\n",
       "</table>\n"
      ],
      "text/latex": [
       "\\begin{tabular}{r|ll}\n",
       " Tipe.Residen & Tipe.Residen.1\\\\\n",
       "\\hline\n",
       "\t Sector  & 2      \\\\\n",
       "\t Cluster & 1      \\\\\n",
       "\\end{tabular}\n"
      ],
      "text/markdown": [
       "\n",
       "| Tipe.Residen | Tipe.Residen.1 |\n",
       "|---|---|\n",
       "| Sector  | 2       |\n",
       "| Cluster | 1       |\n",
       "\n"
      ],
      "text/plain": [
       "  Tipe.Residen Tipe.Residen.1\n",
       "1 Sector       2             \n",
       "2 Cluster      1             "
      ]
     },
     "metadata": {},
     "output_type": "display_data"
    }
   ],
   "source": [
    "#Creating data master for Jenis.Kelamin\",\"Profesi\" and \"Tipe.Residen\"\n",
    "Jenis.Kelamin <- unique(newmerg[c(\"Jenis.Kelamin\",\"Jenis.Kelamin.1\")])\n",
    "Profesi <- unique(newmerg[c(\"Profesi\",\"Profesi.1\")])\n",
    "Tipe.Residen <- unique(newmerg[c(\"Tipe.Residen\",\"Tipe.Residen.1\")])\n",
    "Jenis.Kelamin\n",
    "Profesi\n",
    "Tipe.Residen"
   ]
  },
  {
   "cell_type": "code",
   "execution_count": 38,
   "metadata": {},
   "outputs": [
    {
     "data": {
      "text/plain": [
       "K-means clustering with 5 clusters of sizes 5, 12, 14, 9, 10\n",
       "\n",
       "Cluster means:\n",
       "  Jenis.Kelamin.1     Umur Profesi.1 Tipe.Residen.1 NilaiBelanjaSetahun\n",
       "1            1.40 61.80000  4.200000       1.400000            8.696132\n",
       "2            1.75 31.58333  3.916667       1.250000            7.330958\n",
       "3            2.00 20.07143  3.571429       1.357143            5.901089\n",
       "4            2.00 42.33333  4.000000       1.555556            8.804791\n",
       "5            1.70 52.50000  3.800000       1.300000            6.018321\n",
       "\n",
       "Clustering vector:\n",
       " [1] 1 3 5 5 4 3 1 5 2 2 5 5 1 1 3 2 2 1 2 3 4 5 2 4 2 5 2 4 5 4 3 4 3 3 4 2 3 4\n",
       "[39] 3 3 3 2 2 3 3 3 5 4 2 5\n",
       "\n",
       "Within cluster sum of squares by cluster:\n",
       "[1]  58.21123 174.85164 316.73367 171.67372 108.49735\n",
       " (between_SS / total_SS =  92.4 %)\n",
       "\n",
       "Available components:\n",
       "\n",
       "[1] \"cluster\"      \"centers\"      \"totss\"        \"withinss\"     \"tot.withinss\"\n",
       "[6] \"betweenss\"    \"size\"         \"iter\"         \"ifault\"      "
      ]
     },
     "metadata": {},
     "output_type": "display_data"
    }
   ],
   "source": [
    "#Using kmeans function\n",
    "dataset <- read.csv(\"https://academy.dqlab.id/dataset/customer_segments.txt\",sep=\"\\t\")\n",
    "customer <- c(\"Jenis.Kelamin\",\"Umur\",\"Profesi\",\"Tipe.Residen\")\n",
    "used <- dataset[customer]\n",
    "matrixed <- data.matrix(dataset[c(\"Jenis.Kelamin\",\"Profesi\",\"Tipe.Residen\")])\n",
    "dataset$NilaiBelanjaSetahun <- dataset$NilaiBelanjaSetahun / 1000000\n",
    "field <- c(\"Jenis.Kelamin.1\",\"Umur\",\"Profesi.1\",\"Tipe.Residen.1\",\"NilaiBelanjaSetahun\")\n",
    "customer <- data.frame(dataset,matrixed)\n",
    "set.seed(100)\n",
    "segment <- kmeans(x=customer[field],centers=5,nstart=25)\n",
    "segment"
   ]
  },
  {
   "cell_type": "code",
   "execution_count": 39,
   "metadata": {},
   "outputs": [
    {
     "data": {
      "text/html": [
       "<ol class=list-inline>\n",
       "\t<li>1</li>\n",
       "\t<li>3</li>\n",
       "\t<li>5</li>\n",
       "\t<li>5</li>\n",
       "\t<li>4</li>\n",
       "\t<li>3</li>\n",
       "\t<li>1</li>\n",
       "\t<li>5</li>\n",
       "\t<li>2</li>\n",
       "\t<li>2</li>\n",
       "\t<li>5</li>\n",
       "\t<li>5</li>\n",
       "\t<li>1</li>\n",
       "\t<li>1</li>\n",
       "\t<li>3</li>\n",
       "\t<li>2</li>\n",
       "\t<li>2</li>\n",
       "\t<li>1</li>\n",
       "\t<li>2</li>\n",
       "\t<li>3</li>\n",
       "\t<li>4</li>\n",
       "\t<li>5</li>\n",
       "\t<li>2</li>\n",
       "\t<li>4</li>\n",
       "\t<li>2</li>\n",
       "\t<li>5</li>\n",
       "\t<li>2</li>\n",
       "\t<li>4</li>\n",
       "\t<li>5</li>\n",
       "\t<li>4</li>\n",
       "\t<li>3</li>\n",
       "\t<li>4</li>\n",
       "\t<li>3</li>\n",
       "\t<li>3</li>\n",
       "\t<li>4</li>\n",
       "\t<li>2</li>\n",
       "\t<li>3</li>\n",
       "\t<li>4</li>\n",
       "\t<li>3</li>\n",
       "\t<li>3</li>\n",
       "\t<li>3</li>\n",
       "\t<li>2</li>\n",
       "\t<li>2</li>\n",
       "\t<li>3</li>\n",
       "\t<li>3</li>\n",
       "\t<li>3</li>\n",
       "\t<li>5</li>\n",
       "\t<li>4</li>\n",
       "\t<li>2</li>\n",
       "\t<li>5</li>\n",
       "</ol>\n"
      ],
      "text/latex": [
       "\\begin{enumerate*}\n",
       "\\item 1\n",
       "\\item 3\n",
       "\\item 5\n",
       "\\item 5\n",
       "\\item 4\n",
       "\\item 3\n",
       "\\item 1\n",
       "\\item 5\n",
       "\\item 2\n",
       "\\item 2\n",
       "\\item 5\n",
       "\\item 5\n",
       "\\item 1\n",
       "\\item 1\n",
       "\\item 3\n",
       "\\item 2\n",
       "\\item 2\n",
       "\\item 1\n",
       "\\item 2\n",
       "\\item 3\n",
       "\\item 4\n",
       "\\item 5\n",
       "\\item 2\n",
       "\\item 4\n",
       "\\item 2\n",
       "\\item 5\n",
       "\\item 2\n",
       "\\item 4\n",
       "\\item 5\n",
       "\\item 4\n",
       "\\item 3\n",
       "\\item 4\n",
       "\\item 3\n",
       "\\item 3\n",
       "\\item 4\n",
       "\\item 2\n",
       "\\item 3\n",
       "\\item 4\n",
       "\\item 3\n",
       "\\item 3\n",
       "\\item 3\n",
       "\\item 2\n",
       "\\item 2\n",
       "\\item 3\n",
       "\\item 3\n",
       "\\item 3\n",
       "\\item 5\n",
       "\\item 4\n",
       "\\item 2\n",
       "\\item 5\n",
       "\\end{enumerate*}\n"
      ],
      "text/markdown": [
       "1. 1\n",
       "2. 3\n",
       "3. 5\n",
       "4. 5\n",
       "5. 4\n",
       "6. 3\n",
       "7. 1\n",
       "8. 5\n",
       "9. 2\n",
       "10. 2\n",
       "11. 5\n",
       "12. 5\n",
       "13. 1\n",
       "14. 1\n",
       "15. 3\n",
       "16. 2\n",
       "17. 2\n",
       "18. 1\n",
       "19. 2\n",
       "20. 3\n",
       "21. 4\n",
       "22. 5\n",
       "23. 2\n",
       "24. 4\n",
       "25. 2\n",
       "26. 5\n",
       "27. 2\n",
       "28. 4\n",
       "29. 5\n",
       "30. 4\n",
       "31. 3\n",
       "32. 4\n",
       "33. 3\n",
       "34. 3\n",
       "35. 4\n",
       "36. 2\n",
       "37. 3\n",
       "38. 4\n",
       "39. 3\n",
       "40. 3\n",
       "41. 3\n",
       "42. 2\n",
       "43. 2\n",
       "44. 3\n",
       "45. 3\n",
       "46. 3\n",
       "47. 5\n",
       "48. 4\n",
       "49. 2\n",
       "50. 5\n",
       "\n",
       "\n"
      ],
      "text/plain": [
       " [1] 1 3 5 5 4 3 1 5 2 2 5 5 1 1 3 2 2 1 2 3 4 5 2 4 2 5 2 4 5 4 3 4 3 3 4 2 3 4\n",
       "[39] 3 3 3 2 2 3 3 3 5 4 2 5"
      ]
     },
     "metadata": {},
     "output_type": "display_data"
    }
   ],
   "source": [
    "#Displaying cluster\n",
    "customer$Cluster <- segment$cluster\n",
    "segment$cluster"
   ]
  },
  {
   "cell_type": "code",
   "execution_count": 40,
   "metadata": {},
   "outputs": [
    {
     "data": {
      "text/html": [
       "<ol class=list-inline>\n",
       "\t<li>1</li>\n",
       "\t<li>7</li>\n",
       "\t<li>13</li>\n",
       "\t<li>14</li>\n",
       "\t<li>18</li>\n",
       "</ol>\n"
      ],
      "text/latex": [
       "\\begin{enumerate*}\n",
       "\\item 1\n",
       "\\item 7\n",
       "\\item 13\n",
       "\\item 14\n",
       "\\item 18\n",
       "\\end{enumerate*}\n"
      ],
      "text/markdown": [
       "1. 1\n",
       "2. 7\n",
       "3. 13\n",
       "4. 14\n",
       "5. 18\n",
       "\n",
       "\n"
      ],
      "text/plain": [
       "[1]  1  7 13 14 18"
      ]
     },
     "metadata": {},
     "output_type": "display_data"
    },
    {
     "data": {
      "text/html": [
       "5"
      ],
      "text/latex": [
       "5"
      ],
      "text/markdown": [
       "5"
      ],
      "text/plain": [
       "[1] 5"
      ]
     },
     "metadata": {},
     "output_type": "display_data"
    }
   ],
   "source": [
    "#Displaying the size of first cluster \n",
    "which(customer$Cluster==1)\n",
    "length(which(customer$Cluster==1))"
   ]
  },
  {
   "cell_type": "code",
   "execution_count": 41,
   "metadata": {},
   "outputs": [
    {
     "data": {
      "text/html": [
       "<table>\n",
       "<thead><tr><th></th><th scope=col>Customer_ID</th><th scope=col>Nama.Pelanggan</th><th scope=col>Jenis.Kelamin</th><th scope=col>Umur</th><th scope=col>Profesi</th><th scope=col>Tipe.Residen</th><th scope=col>NilaiBelanjaSetahun</th><th scope=col>Jenis.Kelamin.1</th><th scope=col>Profesi.1</th><th scope=col>Tipe.Residen.1</th><th scope=col>Cluster</th></tr></thead>\n",
       "<tbody>\n",
       "\t<tr><th scope=row>1</th><td>CUST-001        </td><td>Budi Anggara    </td><td>Pria            </td><td>58              </td><td>Wiraswasta      </td><td>Sector          </td><td>9.497927        </td><td>1               </td><td>5               </td><td>2               </td><td>1               </td></tr>\n",
       "\t<tr><th scope=row>7</th><td>CUST-007        </td><td>Cahyono, Agus   </td><td>Pria            </td><td>64              </td><td>Wiraswasta      </td><td>Sector          </td><td>9.837260        </td><td>1               </td><td>5               </td><td>2               </td><td>1               </td></tr>\n",
       "\t<tr><th scope=row>13</th><td>CUST-013        </td><td>Cahaya Putri    </td><td>Wanita          </td><td>64              </td><td>Wiraswasta      </td><td>Cluster         </td><td>9.333168        </td><td>2               </td><td>5               </td><td>1               </td><td>1               </td></tr>\n",
       "\t<tr><th scope=row>14</th><td>CUST-014        </td><td>Mario Setiawan  </td><td>Pria            </td><td>60              </td><td>Wiraswasta      </td><td>Cluster         </td><td>9.471615        </td><td>1               </td><td>5               </td><td>1               </td><td>1               </td></tr>\n",
       "\t<tr><th scope=row>18</th><td>CUST-018        </td><td>Nelly Halim     </td><td>Wanita          </td><td>63              </td><td>Ibu Rumah Tangga</td><td>Cluster         </td><td>5.340690        </td><td>2               </td><td>1               </td><td>1               </td><td>1               </td></tr>\n",
       "</tbody>\n",
       "</table>\n"
      ],
      "text/latex": [
       "\\begin{tabular}{r|lllllllllll}\n",
       "  & Customer\\_ID & Nama.Pelanggan & Jenis.Kelamin & Umur & Profesi & Tipe.Residen & NilaiBelanjaSetahun & Jenis.Kelamin.1 & Profesi.1 & Tipe.Residen.1 & Cluster\\\\\n",
       "\\hline\n",
       "\t1 & CUST-001         & Budi Anggara     & Pria             & 58               & Wiraswasta       & Sector           & 9.497927         & 1                & 5                & 2                & 1               \\\\\n",
       "\t7 & CUST-007         & Cahyono, Agus    & Pria             & 64               & Wiraswasta       & Sector           & 9.837260         & 1                & 5                & 2                & 1               \\\\\n",
       "\t13 & CUST-013         & Cahaya Putri     & Wanita           & 64               & Wiraswasta       & Cluster          & 9.333168         & 2                & 5                & 1                & 1               \\\\\n",
       "\t14 & CUST-014         & Mario Setiawan   & Pria             & 60               & Wiraswasta       & Cluster          & 9.471615         & 1                & 5                & 1                & 1               \\\\\n",
       "\t18 & CUST-018         & Nelly Halim      & Wanita           & 63               & Ibu Rumah Tangga & Cluster          & 5.340690         & 2                & 1                & 1                & 1               \\\\\n",
       "\\end{tabular}\n"
      ],
      "text/markdown": [
       "\n",
       "| <!--/--> | Customer_ID | Nama.Pelanggan | Jenis.Kelamin | Umur | Profesi | Tipe.Residen | NilaiBelanjaSetahun | Jenis.Kelamin.1 | Profesi.1 | Tipe.Residen.1 | Cluster |\n",
       "|---|---|---|---|---|---|---|---|---|---|---|---|\n",
       "| 1 | CUST-001         | Budi Anggara     | Pria             | 58               | Wiraswasta       | Sector           | 9.497927         | 1                | 5                | 2                | 1                |\n",
       "| 7 | CUST-007         | Cahyono, Agus    | Pria             | 64               | Wiraswasta       | Sector           | 9.837260         | 1                | 5                | 2                | 1                |\n",
       "| 13 | CUST-013         | Cahaya Putri     | Wanita           | 64               | Wiraswasta       | Cluster          | 9.333168         | 2                | 5                | 1                | 1                |\n",
       "| 14 | CUST-014         | Mario Setiawan   | Pria             | 60               | Wiraswasta       | Cluster          | 9.471615         | 1                | 5                | 1                | 1                |\n",
       "| 18 | CUST-018         | Nelly Halim      | Wanita           | 63               | Ibu Rumah Tangga | Cluster          | 5.340690         | 2                | 1                | 1                | 1                |\n",
       "\n"
      ],
      "text/plain": [
       "   Customer_ID Nama.Pelanggan Jenis.Kelamin Umur Profesi          Tipe.Residen\n",
       "1  CUST-001    Budi Anggara   Pria          58   Wiraswasta       Sector      \n",
       "7  CUST-007    Cahyono, Agus  Pria          64   Wiraswasta       Sector      \n",
       "13 CUST-013    Cahaya Putri   Wanita        64   Wiraswasta       Cluster     \n",
       "14 CUST-014    Mario Setiawan Pria          60   Wiraswasta       Cluster     \n",
       "18 CUST-018    Nelly Halim    Wanita        63   Ibu Rumah Tangga Cluster     \n",
       "   NilaiBelanjaSetahun Jenis.Kelamin.1 Profesi.1 Tipe.Residen.1 Cluster\n",
       "1  9.497927            1               5         2              1      \n",
       "7  9.837260            1               5         2              1      \n",
       "13 9.333168            2               5         1              1      \n",
       "14 9.471615            1               5         1              1      \n",
       "18 5.340690            2               1         1              1      "
      ]
     },
     "metadata": {},
     "output_type": "display_data"
    }
   ],
   "source": [
    "#Displaying the customer data that exist in the first cluster\n",
    "customer[which(customer$Cluster==1),]"
   ]
  },
  {
   "cell_type": "code",
   "execution_count": 42,
   "metadata": {},
   "outputs": [
    {
     "data": {
      "text/html": [
       "<table>\n",
       "<thead><tr><th scope=col>Jenis.Kelamin.1</th><th scope=col>Umur</th><th scope=col>Profesi.1</th><th scope=col>Tipe.Residen.1</th><th scope=col>NilaiBelanjaSetahun</th></tr></thead>\n",
       "<tbody>\n",
       "\t<tr><td>1.40    </td><td>61.80000</td><td>4.200000</td><td>1.400000</td><td>8.696132</td></tr>\n",
       "\t<tr><td>1.75    </td><td>31.58333</td><td>3.916667</td><td>1.250000</td><td>7.330958</td></tr>\n",
       "\t<tr><td>2.00    </td><td>20.07143</td><td>3.571429</td><td>1.357143</td><td>5.901089</td></tr>\n",
       "\t<tr><td>2.00    </td><td>42.33333</td><td>4.000000</td><td>1.555556</td><td>8.804791</td></tr>\n",
       "\t<tr><td>1.70    </td><td>52.50000</td><td>3.800000</td><td>1.300000</td><td>6.018321</td></tr>\n",
       "</tbody>\n",
       "</table>\n"
      ],
      "text/latex": [
       "\\begin{tabular}{r|lllll}\n",
       " Jenis.Kelamin.1 & Umur & Profesi.1 & Tipe.Residen.1 & NilaiBelanjaSetahun\\\\\n",
       "\\hline\n",
       "\t 1.40     & 61.80000 & 4.200000 & 1.400000 & 8.696132\\\\\n",
       "\t 1.75     & 31.58333 & 3.916667 & 1.250000 & 7.330958\\\\\n",
       "\t 2.00     & 20.07143 & 3.571429 & 1.357143 & 5.901089\\\\\n",
       "\t 2.00     & 42.33333 & 4.000000 & 1.555556 & 8.804791\\\\\n",
       "\t 1.70     & 52.50000 & 3.800000 & 1.300000 & 6.018321\\\\\n",
       "\\end{tabular}\n"
      ],
      "text/markdown": [
       "\n",
       "| Jenis.Kelamin.1 | Umur | Profesi.1 | Tipe.Residen.1 | NilaiBelanjaSetahun |\n",
       "|---|---|---|---|---|\n",
       "| 1.40     | 61.80000 | 4.200000 | 1.400000 | 8.696132 |\n",
       "| 1.75     | 31.58333 | 3.916667 | 1.250000 | 7.330958 |\n",
       "| 2.00     | 20.07143 | 3.571429 | 1.357143 | 5.901089 |\n",
       "| 2.00     | 42.33333 | 4.000000 | 1.555556 | 8.804791 |\n",
       "| 1.70     | 52.50000 | 3.800000 | 1.300000 | 6.018321 |\n",
       "\n"
      ],
      "text/plain": [
       "  Jenis.Kelamin.1 Umur     Profesi.1 Tipe.Residen.1 NilaiBelanjaSetahun\n",
       "1 1.40            61.80000 4.200000  1.400000       8.696132           \n",
       "2 1.75            31.58333 3.916667  1.250000       7.330958           \n",
       "3 2.00            20.07143 3.571429  1.357143       5.901089           \n",
       "4 2.00            42.33333 4.000000  1.555556       8.804791           \n",
       "5 1.70            52.50000 3.800000  1.300000       6.018321           "
      ]
     },
     "metadata": {},
     "output_type": "display_data"
    }
   ],
   "source": [
    "#Accessing the centers segmentation\n",
    "segment$centers"
   ]
  },
  {
   "cell_type": "code",
   "execution_count": 43,
   "metadata": {},
   "outputs": [
    {
     "data": {
      "text/plain": [
       "K-means clustering with 2 clusters of sizes 23, 27\n",
       "\n",
       "Cluster means:\n",
       "  Jenis.Kelamin.1     Umur Profesi.1 Tipe.Residen.1 NilaiBelanjaSetahun\n",
       "1        1.739130 51.17391  3.913043       1.434783            7.551518\n",
       "2        1.888889 25.85185  3.777778       1.296296            6.659586\n",
       "\n",
       "Clustering vector:\n",
       " [1] 1 2 1 1 1 2 1 1 2 2 1 1 1 1 2 2 2 1 2 2 2 1 2 1 2 1 2 1 1 1 2 1 2 2 1 2 2 1\n",
       "[39] 2 2 2 2 2 2 2 2 1 1 2 1\n",
       "\n",
       "Within cluster sum of squares by cluster:\n",
       "[1] 1492.481 1524.081\n",
       " (between_SS / total_SS =  72.6 %)\n",
       "\n",
       "Available components:\n",
       "\n",
       "[1] \"cluster\"      \"centers\"      \"totss\"        \"withinss\"     \"tot.withinss\"\n",
       "[6] \"betweenss\"    \"size\"         \"iter\"         \"ifault\"      "
      ]
     },
     "metadata": {},
     "output_type": "display_data"
    },
    {
     "data": {
      "text/plain": [
       "K-means clustering with 5 clusters of sizes 12, 14, 9, 5, 10\n",
       "\n",
       "Cluster means:\n",
       "  Jenis.Kelamin.1     Umur Profesi.1 Tipe.Residen.1 NilaiBelanjaSetahun\n",
       "1            1.75 31.58333  3.916667       1.250000            7.330958\n",
       "2            2.00 20.07143  3.571429       1.357143            5.901089\n",
       "3            2.00 42.33333  4.000000       1.555556            8.804791\n",
       "4            1.40 61.80000  4.200000       1.400000            8.696132\n",
       "5            1.70 52.50000  3.800000       1.300000            6.018321\n",
       "\n",
       "Clustering vector:\n",
       " [1] 4 2 5 5 3 2 4 5 1 1 5 5 4 4 2 1 1 4 1 2 3 5 1 3 1 5 1 3 5 3 2 3 2 2 3 1 2 3\n",
       "[39] 2 2 2 1 1 2 2 2 5 3 1 5\n",
       "\n",
       "Within cluster sum of squares by cluster:\n",
       "[1] 174.85164 316.73367 171.67372  58.21123 108.49735\n",
       " (between_SS / total_SS =  92.4 %)\n",
       "\n",
       "Available components:\n",
       "\n",
       "[1] \"cluster\"      \"centers\"      \"totss\"        \"withinss\"     \"tot.withinss\"\n",
       "[6] \"betweenss\"    \"size\"         \"iter\"         \"ifault\"      "
      ]
     },
     "metadata": {},
     "output_type": "display_data"
    }
   ],
   "source": [
    "#Comparing the result of the 2 different centers\n",
    "testing1 <- kmeans(x=customer[field],centers=2,nstart=25)\n",
    "testing2 <- kmeans(x=customer[field],centers=5,nstart=25)\n",
    "testing1\n",
    "testing2\n",
    "\n",
    "#Its showed that the Sum of squared errors of kmean with 2 centers is bigger than kmean with 5 centers"
   ]
  },
  {
   "cell_type": "code",
   "execution_count": 44,
   "metadata": {},
   "outputs": [
    {
     "data": {
      "text/html": [
       "<ol class=list-inline>\n",
       "\t<li>10990.9740325902</li>\n",
       "\t<li>3016.56115098999</li>\n",
       "\t<li>1550.87245258579</li>\n",
       "\t<li>1064.4186744681</li>\n",
       "\t<li>829.967599003609</li>\n",
       "\t<li>625.146176215474</li>\n",
       "\t<li>508.156812409351</li>\n",
       "\t<li>431.697737230219</li>\n",
       "\t<li>374.109472124797</li>\n",
       "\t<li>328.532402081755</li>\n",
       "</ol>\n"
      ],
      "text/latex": [
       "\\begin{enumerate*}\n",
       "\\item 10990.9740325902\n",
       "\\item 3016.56115098999\n",
       "\\item 1550.87245258579\n",
       "\\item 1064.4186744681\n",
       "\\item 829.967599003609\n",
       "\\item 625.146176215474\n",
       "\\item 508.156812409351\n",
       "\\item 431.697737230219\n",
       "\\item 374.109472124797\n",
       "\\item 328.532402081755\n",
       "\\end{enumerate*}\n"
      ],
      "text/markdown": [
       "1. 10990.9740325902\n",
       "2. 3016.56115098999\n",
       "3. 1550.87245258579\n",
       "4. 1064.4186744681\n",
       "5. 829.967599003609\n",
       "6. 625.146176215474\n",
       "7. 508.156812409351\n",
       "8. 431.697737230219\n",
       "9. 374.109472124797\n",
       "10. 328.532402081755\n",
       "\n",
       "\n"
      ],
      "text/plain": [
       " [1] 10990.9740  3016.5612  1550.8725  1064.4187   829.9676   625.1462\n",
       " [7]   508.1568   431.6977   374.1095   328.5324"
      ]
     },
     "metadata": {},
     "output_type": "display_data"
    }
   ],
   "source": [
    "#Comparing the SS of the 10 different centers\n",
    "sse <- sapply(1:10,\n",
    "              function(param_k){\n",
    "                  kmeans(x=customer[field],param_k,nstart=25)$tot.withins\n",
    "              }\n",
    "              )\n",
    "sse"
   ]
  },
  {
   "cell_type": "code",
   "execution_count": 45,
   "metadata": {},
   "outputs": [
    {
     "data": {
      "image/png": "[encoded data removed]",
      "text/plain": [
       "plot without title"
      ]
     },
     "metadata": {},
     "output_type": "display_data"
    }
   ],
   "source": [
    "#Elbow effect graphic\n",
    "library(ggplot2)\n",
    "jumlah_cluster_max <- 10\n",
    "sseframe <- data.frame(cluster=c(1:jumlah_cluster_max),sse)\n",
    "ggplot(sseframe, aes(x=cluster,y=sse)) +\n",
    "                geom_line(color=\"red\") + geom_point() +\n",
    "                ylab(\"Within Cluster Sum of Squares\") + xlab(\"Jumlah Cluster\") +\n",
    "                geom_text(aes(label=format(round(sse, 2), nsmall = 2)),hjust=-0.2, vjust=-0.5) +\n",
    "  scale_x_discrete(limits=c(1:jumlah_cluster_max))\n"
   ]
  },
  {
   "cell_type": "code",
   "execution_count": 46,
   "metadata": {},
   "outputs": [
    {
     "data": {
      "text/html": [
       "<table>\n",
       "<thead><tr><th scope=col>cluster</th><th scope=col>segment</th></tr></thead>\n",
       "<tbody>\n",
       "\t<tr><td>1                          </td><td>Diamond Senior Member      </td></tr>\n",
       "\t<tr><td>2                          </td><td>Gold Young Professional    </td></tr>\n",
       "\t<tr><td>3                          </td><td>Silver Mid Youth           </td></tr>\n",
       "\t<tr><td>4                          </td><td>Diamond Professional Member</td></tr>\n",
       "\t<tr><td>5                          </td><td>Silver Mid Professional    </td></tr>\n",
       "</tbody>\n",
       "</table>\n"
      ],
      "text/latex": [
       "\\begin{tabular}{r|ll}\n",
       " cluster & segment\\\\\n",
       "\\hline\n",
       "\t 1                           & Diamond Senior Member      \\\\\n",
       "\t 2                           & Gold Young Professional    \\\\\n",
       "\t 3                           & Silver Mid Youth           \\\\\n",
       "\t 4                           & Diamond Professional Member\\\\\n",
       "\t 5                           & Silver Mid Professional    \\\\\n",
       "\\end{tabular}\n"
      ],
      "text/markdown": [
       "\n",
       "| cluster | segment |\n",
       "|---|---|\n",
       "| 1                           | Diamond Senior Member       |\n",
       "| 2                           | Gold Young Professional     |\n",
       "| 3                           | Silver Mid Youth            |\n",
       "| 4                           | Diamond Professional Member |\n",
       "| 5                           | Silver Mid Professional     |\n",
       "\n"
      ],
      "text/plain": [
       "  cluster segment                    \n",
       "1 1       Diamond Senior Member      \n",
       "2 2       Gold Young Professional    \n",
       "3 3       Silver Mid Youth           \n",
       "4 4       Diamond Professional Member\n",
       "5 5       Silver Mid Professional    "
      ]
     },
     "metadata": {},
     "output_type": "display_data"
    }
   ],
   "source": [
    "#Giving name of each cluster\n",
    "customer.segment <- data.frame(cluster=c(1:5),segment=c(\"Diamond Senior Member\",\"Gold Young Professional\",\"Silver Mid Youth\",\"Diamond Professional Member\",\"Silver Mid Professional\"))\n",
    "customer.segment"
   ]
  },
  {
   "cell_type": "code",
   "execution_count": 48,
   "metadata": {},
   "outputs": [],
   "source": [
    "#Merging all of the variables on a list\n",
    "segmentation <- list(Jenis.Kelamin=Jenis.Kelamin,Tipe.Residen=Tipe.Residen,Profesi=Profesi,Segment=segment,Customer.Segment=customer.segment,field=field)"
   ]
  },
  {
   "cell_type": "code",
   "execution_count": 49,
   "metadata": {},
   "outputs": [],
   "source": [
    "#Saving the object on file format\n",
    "saveRDS(segmentation,\"Segmentation.rds\")"
   ]
  },
  {
   "cell_type": "code",
   "execution_count": 50,
   "metadata": {},
   "outputs": [
    {
     "data": {
      "text/html": [
       "<table>\n",
       "<thead><tr><th scope=col>Customer_ID</th><th scope=col>Nama.Pelanggan</th><th scope=col>Umur</th><th scope=col>Jenis.Kelamin</th><th scope=col>Profesi</th><th scope=col>Tipe.Residen</th><th scope=col>NilaiBelanjaSetahun</th></tr></thead>\n",
       "<tbody>\n",
       "\t<tr><td>CUST-100    </td><td>Rudi Wilamar</td><td>20          </td><td>Wanita      </td><td>Pelajar     </td><td>Cluster     </td><td>3.5         </td></tr>\n",
       "</tbody>\n",
       "</table>\n"
      ],
      "text/latex": [
       "\\begin{tabular}{r|lllllll}\n",
       " Customer\\_ID & Nama.Pelanggan & Umur & Jenis.Kelamin & Profesi & Tipe.Residen & NilaiBelanjaSetahun\\\\\n",
       "\\hline\n",
       "\t CUST-100     & Rudi Wilamar & 20           & Wanita       & Pelajar      & Cluster      & 3.5         \\\\\n",
       "\\end{tabular}\n"
      ],
      "text/markdown": [
       "\n",
       "| Customer_ID | Nama.Pelanggan | Umur | Jenis.Kelamin | Profesi | Tipe.Residen | NilaiBelanjaSetahun |\n",
       "|---|---|---|---|---|---|---|\n",
       "| CUST-100     | Rudi Wilamar | 20           | Wanita       | Pelajar      | Cluster      | 3.5          |\n",
       "\n"
      ],
      "text/plain": [
       "  Customer_ID Nama.Pelanggan Umur Jenis.Kelamin Profesi Tipe.Residen\n",
       "1 CUST-100    Rudi Wilamar   20   Wanita        Pelajar Cluster     \n",
       "  NilaiBelanjaSetahun\n",
       "1 3.5                "
      ]
     },
     "metadata": {},
     "output_type": "display_data"
    }
   ],
   "source": [
    "#Creating new data for testing\n",
    "databaru <- data.frame(Customer_ID=\"CUST-100\", Nama.Pelanggan=\"Rudi Wilamar\",Umur=20,\n",
    "           Jenis.Kelamin=\"Wanita\",Profesi=\"Pelajar\",Tipe.Residen=\"Cluster\",NilaiBelanjaSetahun=3.5)\n",
    "databaru"
   ]
  },
  {
   "cell_type": "code",
   "execution_count": 51,
   "metadata": {},
   "outputs": [],
   "source": [
    "#Reading the rds file\n",
    "Identitas.Cluster <- readRDS(\"Segmentation.rds\")"
   ]
  },
  {
   "cell_type": "code",
   "execution_count": 52,
   "metadata": {},
   "outputs": [
    {
     "data": {
      "text/html": [
       "<table>\n",
       "<thead><tr><th scope=col>Tipe.Residen</th><th scope=col>Jenis.Kelamin</th><th scope=col>Profesi</th><th scope=col>Customer_ID</th><th scope=col>Nama.Pelanggan</th><th scope=col>Umur</th><th scope=col>NilaiBelanjaSetahun</th><th scope=col>Profesi.1</th><th scope=col>Jenis.Kelamin.1</th><th scope=col>Tipe.Residen.1</th></tr></thead>\n",
       "<tbody>\n",
       "\t<tr><td>Cluster     </td><td>Wanita      </td><td>Pelajar     </td><td>CUST-100    </td><td>Rudi Wilamar</td><td>20          </td><td>3.5         </td><td>3           </td><td>2           </td><td>1           </td></tr>\n",
       "</tbody>\n",
       "</table>\n"
      ],
      "text/latex": [
       "\\begin{tabular}{r|llllllllll}\n",
       " Tipe.Residen & Jenis.Kelamin & Profesi & Customer\\_ID & Nama.Pelanggan & Umur & NilaiBelanjaSetahun & Profesi.1 & Jenis.Kelamin.1 & Tipe.Residen.1\\\\\n",
       "\\hline\n",
       "\t Cluster      & Wanita       & Pelajar      & CUST-100     & Rudi Wilamar & 20           & 3.5          & 3            & 2            & 1           \\\\\n",
       "\\end{tabular}\n"
      ],
      "text/markdown": [
       "\n",
       "| Tipe.Residen | Jenis.Kelamin | Profesi | Customer_ID | Nama.Pelanggan | Umur | NilaiBelanjaSetahun | Profesi.1 | Jenis.Kelamin.1 | Tipe.Residen.1 |\n",
       "|---|---|---|---|---|---|---|---|---|---|\n",
       "| Cluster      | Wanita       | Pelajar      | CUST-100     | Rudi Wilamar | 20           | 3.5          | 3            | 2            | 1            |\n",
       "\n"
      ],
      "text/plain": [
       "  Tipe.Residen Jenis.Kelamin Profesi Customer_ID Nama.Pelanggan Umur\n",
       "1 Cluster      Wanita        Pelajar CUST-100    Rudi Wilamar   20  \n",
       "  NilaiBelanjaSetahun Profesi.1 Jenis.Kelamin.1 Tipe.Residen.1\n",
       "1 3.5                 3         2               1             "
      ]
     },
     "metadata": {},
     "output_type": "display_data"
    }
   ],
   "source": [
    "#Merging the new data with Reference data\n",
    "databaru <- merge(databaru, Identitas.Cluster$Profesi)\n",
    "databaru <- merge(databaru, Identitas.Cluster$Jenis.Kelamin)\n",
    "databaru <- merge(databaru, Identitas.Cluster$Tipe.Residen)\n",
    "databaru"
   ]
  },
  {
   "cell_type": "code",
   "execution_count": 56,
   "metadata": {},
   "outputs": [
    {
     "data": {
      "text/html": [
       "<table>\n",
       "<thead><tr><th></th><th scope=col>cluster</th><th scope=col>segment</th></tr></thead>\n",
       "<tbody>\n",
       "\t<tr><th scope=row>3</th><td>3               </td><td>Silver Mid Youth</td></tr>\n",
       "</tbody>\n",
       "</table>\n"
      ],
      "text/latex": [
       "\\begin{tabular}{r|ll}\n",
       "  & cluster & segment\\\\\n",
       "\\hline\n",
       "\t3 & 3                & Silver Mid Youth\\\\\n",
       "\\end{tabular}\n"
      ],
      "text/markdown": [
       "\n",
       "| <!--/--> | cluster | segment |\n",
       "|---|---|---|\n",
       "| 3 | 3                | Silver Mid Youth |\n",
       "\n"
      ],
      "text/plain": [
       "  cluster segment         \n",
       "3 3       Silver Mid Youth"
      ]
     },
     "metadata": {},
     "output_type": "display_data"
    }
   ],
   "source": [
    "#Determining the cluster\n",
    "Identitas.Cluster$Customer.Segment[which.min(sapply\n",
    "                                             ( 1:5, function( x ) sum( ( databaru[Identitas.Cluster$field]\n",
    "                                                                        - Identitas.Cluster$Segment$centers[x,])^2 ) )),]\n"
   ]
  },
  {
   "cell_type": "markdown",
   "metadata": {},
   "source": [
    "# Learning Sources :\n",
    "# www.dqlab.id\n",
    "# https://blogs.oracle.com/datascience/introduction-to-k-means-clustering"
   ]
  }
 ],
 "metadata": {
  "kernelspec": {
   "display_name": "R",
   "language": "R",
   "name": "ir"
  }
 },
 "nbformat": 4,
 "nbformat_minor": 4
}
