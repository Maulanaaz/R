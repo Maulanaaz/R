{
 "cells": [
  {
   "cell_type": "markdown",
   "metadata": {},
   "source": [
    "# STATISTICS\n",
    "<img src=\"Images/statistics.jpeg\" width=500>\n",
    "Statistics is the discipline that concerns the collection, organization, analysis, interpretation and presentation of data.In applying statistics to a scientific, industrial, or social problem, it is conventional to begin with a statistical population or a statistical model to be studied. Populations can be diverse groups of people or objects such as \"all people living in a country\" or \"every atom composing a crystal\". Statistics deals with every aspect of data, including the planning of data collection in terms of the design of surveys and experiments.\n",
    "\n",
    "Statistics is used to process complex problems in the real world so that Data Scientists and Analysts can look for meaningful trends and changes in Data. In simple words, Statistics can be used to derive meaningful insights from data by performing mathematical computations on it.\n",
    "\n",
    "Several Statistical functions, principles and algorithms are implemented to analyse raw data, build a Statistical Model and infer or predict the result."
   ]
  },
  {
   "cell_type": "code",
   "execution_count": 1,
   "metadata": {},
   "outputs": [
    {
     "data": {
      "text/html": [
       "<table>\n",
       "<thead><tr><th scope=col>ID.Pelanggan</th><th scope=col>Nama</th><th scope=col>Jenis.Kelamin</th><th scope=col>Pendapatan</th><th scope=col>Produk</th><th scope=col>Harga</th><th scope=col>Jumlah</th><th scope=col>Total</th><th scope=col>Tingkat.Kepuasan</th></tr></thead>\n",
       "<tbody>\n",
       "\t<tr><td> 1     </td><td>Arif   </td><td>1      </td><td> 600000</td><td>A      </td><td>100000 </td><td>4      </td><td> 400000</td><td>2      </td></tr>\n",
       "\t<tr><td> 2     </td><td>Dian   </td><td>2      </td><td>1200000</td><td>D      </td><td>250000 </td><td>4      </td><td>1000000</td><td>2      </td></tr>\n",
       "\t<tr><td> 3     </td><td>Dinda  </td><td>2      </td><td> 950000</td><td>D      </td><td>250000 </td><td>3      </td><td> 750000</td><td>3      </td></tr>\n",
       "\t<tr><td> 4     </td><td>Fajar  </td><td>1      </td><td> 400000</td><td>A      </td><td>100000 </td><td>2      </td><td> 200000</td><td>3      </td></tr>\n",
       "\t<tr><td> 5     </td><td>Ika    </td><td>2      </td><td>1200000</td><td>D      </td><td>250000 </td><td>4      </td><td>1000000</td><td>2      </td></tr>\n",
       "\t<tr><td> 6     </td><td>Ilham  </td><td>1      </td><td> 800000</td><td>B      </td><td>150000 </td><td>4      </td><td> 600000</td><td>3      </td></tr>\n",
       "\t<tr><td> 7     </td><td>Indra  </td><td>1      </td><td> 950000</td><td>B      </td><td>150000 </td><td>5      </td><td> 750000</td><td>1      </td></tr>\n",
       "\t<tr><td> 8     </td><td>Kartika</td><td>2      </td><td>1100000</td><td>E      </td><td>300000 </td><td>3      </td><td> 900000</td><td>3      </td></tr>\n",
       "\t<tr><td> 9     </td><td>Lestari</td><td>2      </td><td> 800000</td><td>E      </td><td>300000 </td><td>2      </td><td> 600000</td><td>1      </td></tr>\n",
       "\t<tr><td>10     </td><td>Lia    </td><td>2      </td><td>1700000</td><td>E      </td><td>300000 </td><td>5      </td><td>1500000</td><td>1      </td></tr>\n",
       "\t<tr><td>11     </td><td>Maria  </td><td>2      </td><td> 600000</td><td>A      </td><td>100000 </td><td>4      </td><td> 400000</td><td>3      </td></tr>\n",
       "\t<tr><td>12     </td><td>Maya   </td><td>2      </td><td> 950000</td><td>B      </td><td>150000 </td><td>5      </td><td> 750000</td><td>3      </td></tr>\n",
       "\t<tr><td>13     </td><td>Mila   </td><td>2      </td><td> 400000</td><td>C      </td><td>200000 </td><td>1      </td><td> 200000</td><td>2      </td></tr>\n",
       "\t<tr><td>14     </td><td>Nurul  </td><td>2      </td><td>6450000</td><td>D      </td><td>250000 </td><td>5      </td><td>1250000</td><td>1      </td></tr>\n",
       "\t<tr><td>15     </td><td>Retno  </td><td>2      </td><td>1000000</td><td>C      </td><td>200000 </td><td>4      </td><td> 800000</td><td>2      </td></tr>\n",
       "\t<tr><td>16     </td><td>Rini   </td><td>2      </td><td> 800000</td><td>B      </td><td>150000 </td><td>4      </td><td> 600000</td><td>1      </td></tr>\n",
       "\t<tr><td>17     </td><td>Rizki  </td><td>1      </td><td>1200000</td><td>C      </td><td>200000 </td><td>5      </td><td>1000000</td><td>3      </td></tr>\n",
       "\t<tr><td>18     </td><td>Sari   </td><td>2      </td><td> 700000</td><td>D      </td><td>250000 </td><td>2      </td><td> 500000</td><td>1      </td></tr>\n",
       "\t<tr><td>19     </td><td>Tyas   </td><td>2      </td><td> 600000</td><td>A      </td><td>100000 </td><td>4      </td><td> 400000</td><td>3      </td></tr>\n",
       "\t<tr><td>20     </td><td>Wahyu  </td><td>1      </td><td> 800000</td><td>C      </td><td>200000 </td><td>3      </td><td> 600000</td><td>1      </td></tr>\n",
       "</tbody>\n",
       "</table>\n"
      ],
      "text/latex": [
       "\\begin{tabular}{r|lllllllll}\n",
       " ID.Pelanggan & Nama & Jenis.Kelamin & Pendapatan & Produk & Harga & Jumlah & Total & Tingkat.Kepuasan\\\\\n",
       "\\hline\n",
       "\t  1      & Arif    & 1       &  600000 & A       & 100000  & 4       &  400000 & 2      \\\\\n",
       "\t  2      & Dian    & 2       & 1200000 & D       & 250000  & 4       & 1000000 & 2      \\\\\n",
       "\t  3      & Dinda   & 2       &  950000 & D       & 250000  & 3       &  750000 & 3      \\\\\n",
       "\t  4      & Fajar   & 1       &  400000 & A       & 100000  & 2       &  200000 & 3      \\\\\n",
       "\t  5      & Ika     & 2       & 1200000 & D       & 250000  & 4       & 1000000 & 2      \\\\\n",
       "\t  6      & Ilham   & 1       &  800000 & B       & 150000  & 4       &  600000 & 3      \\\\\n",
       "\t  7      & Indra   & 1       &  950000 & B       & 150000  & 5       &  750000 & 1      \\\\\n",
       "\t  8      & Kartika & 2       & 1100000 & E       & 300000  & 3       &  900000 & 3      \\\\\n",
       "\t  9      & Lestari & 2       &  800000 & E       & 300000  & 2       &  600000 & 1      \\\\\n",
       "\t 10      & Lia     & 2       & 1700000 & E       & 300000  & 5       & 1500000 & 1      \\\\\n",
       "\t 11      & Maria   & 2       &  600000 & A       & 100000  & 4       &  400000 & 3      \\\\\n",
       "\t 12      & Maya    & 2       &  950000 & B       & 150000  & 5       &  750000 & 3      \\\\\n",
       "\t 13      & Mila    & 2       &  400000 & C       & 200000  & 1       &  200000 & 2      \\\\\n",
       "\t 14      & Nurul   & 2       & 6450000 & D       & 250000  & 5       & 1250000 & 1      \\\\\n",
       "\t 15      & Retno   & 2       & 1000000 & C       & 200000  & 4       &  800000 & 2      \\\\\n",
       "\t 16      & Rini    & 2       &  800000 & B       & 150000  & 4       &  600000 & 1      \\\\\n",
       "\t 17      & Rizki   & 1       & 1200000 & C       & 200000  & 5       & 1000000 & 3      \\\\\n",
       "\t 18      & Sari    & 2       &  700000 & D       & 250000  & 2       &  500000 & 1      \\\\\n",
       "\t 19      & Tyas    & 2       &  600000 & A       & 100000  & 4       &  400000 & 3      \\\\\n",
       "\t 20      & Wahyu   & 1       &  800000 & C       & 200000  & 3       &  600000 & 1      \\\\\n",
       "\\end{tabular}\n"
      ],
      "text/markdown": [
       "\n",
       "| ID.Pelanggan | Nama | Jenis.Kelamin | Pendapatan | Produk | Harga | Jumlah | Total | Tingkat.Kepuasan |\n",
       "|---|---|---|---|---|---|---|---|---|\n",
       "|  1      | Arif    | 1       |  600000 | A       | 100000  | 4       |  400000 | 2       |\n",
       "|  2      | Dian    | 2       | 1200000 | D       | 250000  | 4       | 1000000 | 2       |\n",
       "|  3      | Dinda   | 2       |  950000 | D       | 250000  | 3       |  750000 | 3       |\n",
       "|  4      | Fajar   | 1       |  400000 | A       | 100000  | 2       |  200000 | 3       |\n",
       "|  5      | Ika     | 2       | 1200000 | D       | 250000  | 4       | 1000000 | 2       |\n",
       "|  6      | Ilham   | 1       |  800000 | B       | 150000  | 4       |  600000 | 3       |\n",
       "|  7      | Indra   | 1       |  950000 | B       | 150000  | 5       |  750000 | 1       |\n",
       "|  8      | Kartika | 2       | 1100000 | E       | 300000  | 3       |  900000 | 3       |\n",
       "|  9      | Lestari | 2       |  800000 | E       | 300000  | 2       |  600000 | 1       |\n",
       "| 10      | Lia     | 2       | 1700000 | E       | 300000  | 5       | 1500000 | 1       |\n",
       "| 11      | Maria   | 2       |  600000 | A       | 100000  | 4       |  400000 | 3       |\n",
       "| 12      | Maya    | 2       |  950000 | B       | 150000  | 5       |  750000 | 3       |\n",
       "| 13      | Mila    | 2       |  400000 | C       | 200000  | 1       |  200000 | 2       |\n",
       "| 14      | Nurul   | 2       | 6450000 | D       | 250000  | 5       | 1250000 | 1       |\n",
       "| 15      | Retno   | 2       | 1000000 | C       | 200000  | 4       |  800000 | 2       |\n",
       "| 16      | Rini    | 2       |  800000 | B       | 150000  | 4       |  600000 | 1       |\n",
       "| 17      | Rizki   | 1       | 1200000 | C       | 200000  | 5       | 1000000 | 3       |\n",
       "| 18      | Sari    | 2       |  700000 | D       | 250000  | 2       |  500000 | 1       |\n",
       "| 19      | Tyas    | 2       |  600000 | A       | 100000  | 4       |  400000 | 3       |\n",
       "| 20      | Wahyu   | 1       |  800000 | C       | 200000  | 3       |  600000 | 1       |\n",
       "\n"
      ],
      "text/plain": [
       "   ID.Pelanggan Nama    Jenis.Kelamin Pendapatan Produk Harga  Jumlah Total  \n",
       "1   1           Arif    1              600000    A      100000 4       400000\n",
       "2   2           Dian    2             1200000    D      250000 4      1000000\n",
       "3   3           Dinda   2              950000    D      250000 3       750000\n",
       "4   4           Fajar   1              400000    A      100000 2       200000\n",
       "5   5           Ika     2             1200000    D      250000 4      1000000\n",
       "6   6           Ilham   1              800000    B      150000 4       600000\n",
       "7   7           Indra   1              950000    B      150000 5       750000\n",
       "8   8           Kartika 2             1100000    E      300000 3       900000\n",
       "9   9           Lestari 2              800000    E      300000 2       600000\n",
       "10 10           Lia     2             1700000    E      300000 5      1500000\n",
       "11 11           Maria   2              600000    A      100000 4       400000\n",
       "12 12           Maya    2              950000    B      150000 5       750000\n",
       "13 13           Mila    2              400000    C      200000 1       200000\n",
       "14 14           Nurul   2             6450000    D      250000 5      1250000\n",
       "15 15           Retno   2             1000000    C      200000 4       800000\n",
       "16 16           Rini    2              800000    B      150000 4       600000\n",
       "17 17           Rizki   1             1200000    C      200000 5      1000000\n",
       "18 18           Sari    2              700000    D      250000 2       500000\n",
       "19 19           Tyas    2              600000    A      100000 4       400000\n",
       "20 20           Wahyu   1              800000    C      200000 3       600000\n",
       "   Tingkat.Kepuasan\n",
       "1  2               \n",
       "2  2               \n",
       "3  3               \n",
       "4  3               \n",
       "5  2               \n",
       "6  3               \n",
       "7  1               \n",
       "8  3               \n",
       "9  1               \n",
       "10 1               \n",
       "11 3               \n",
       "12 3               \n",
       "13 2               \n",
       "14 1               \n",
       "15 2               \n",
       "16 1               \n",
       "17 3               \n",
       "18 1               \n",
       "19 3               \n",
       "20 1               "
      ]
     },
     "metadata": {},
     "output_type": "display_data"
    }
   ],
   "source": [
    "#Read an csv file\n",
    "data <- read.csv(\"https://academy.dqlab.id/dataset/data_intro.csv\",sep=\";\")\n",
    "data"
   ]
  },
  {
   "cell_type": "code",
   "execution_count": 2,
   "metadata": {},
   "outputs": [
    {
     "name": "stdout",
     "output_type": "stream",
     "text": [
      "'data.frame':\t20 obs. of  9 variables:\n",
      " $ ID.Pelanggan    : int  1 2 3 4 5 6 7 8 9 10 ...\n",
      " $ Nama            : Factor w/ 20 levels \"Arif\",\"Dian\",..: 1 2 3 4 5 6 7 8 9 10 ...\n",
      " $ Jenis.Kelamin   : int  1 2 2 1 2 1 1 2 2 2 ...\n",
      " $ Pendapatan      : int  600000 1200000 950000 400000 1200000 800000 950000 1100000 800000 1700000 ...\n",
      " $ Produk          : Factor w/ 5 levels \"A\",\"B\",\"C\",\"D\",..: 1 4 4 1 4 2 2 5 5 5 ...\n",
      " $ Harga           : int  100000 250000 250000 100000 250000 150000 150000 300000 300000 300000 ...\n",
      " $ Jumlah          : int  4 4 3 2 4 4 5 3 2 5 ...\n",
      " $ Total           : int  400000 1000000 750000 200000 1000000 600000 750000 900000 600000 1500000 ...\n",
      " $ Tingkat.Kepuasan: int  2 2 3 3 2 3 1 3 1 1 ...\n"
     ]
    }
   ],
   "source": [
    "#Profiling data with \"str\" function\n",
    "str(data)"
   ]
  },
  {
   "cell_type": "code",
   "execution_count": 3,
   "metadata": {},
   "outputs": [
    {
     "name": "stdout",
     "output_type": "stream",
     "text": [
      "'data.frame':\t20 obs. of  9 variables:\n",
      " $ ID.Pelanggan    : int  1 2 3 4 5 6 7 8 9 10 ...\n",
      " $ Nama            : chr  \"Arif\" \"Dian\" \"Dinda\" \"Fajar\" ...\n",
      " $ Jenis.Kelamin   : int  1 2 2 1 2 1 1 2 2 2 ...\n",
      " $ Pendapatan      : int  600000 1200000 950000 400000 1200000 800000 950000 1100000 800000 1700000 ...\n",
      " $ Produk          : Factor w/ 5 levels \"A\",\"B\",\"C\",\"D\",..: 1 4 4 1 4 2 2 5 5 5 ...\n",
      " $ Harga           : int  100000 250000 250000 100000 250000 150000 150000 300000 300000 300000 ...\n",
      " $ Jumlah          : int  4 4 3 2 4 4 5 3 2 5 ...\n",
      " $ Total           : int  400000 1000000 750000 200000 1000000 600000 750000 900000 600000 1500000 ...\n",
      " $ Tingkat.Kepuasan: int  2 2 3 3 2 3 1 3 1 1 ...\n"
     ]
    }
   ],
   "source": [
    "#Changing the data type of column \"Nama\" to character\n",
    "data$Nama <- as.character(data$Nama)\n",
    "str(data)"
   ]
  },
  {
   "cell_type": "code",
   "execution_count": 5,
   "metadata": {},
   "outputs": [
    {
     "name": "stdout",
     "output_type": "stream",
     "text": [
      "'data.frame':\t20 obs. of  9 variables:\n",
      " $ ID.Pelanggan    : Factor w/ 20 levels \"1\",\"2\",\"3\",\"4\",..: 1 2 3 4 5 6 7 8 9 10 ...\n",
      " $ Nama            : Factor w/ 20 levels \"Arif\",\"Dian\",..: 1 2 3 4 5 6 7 8 9 10 ...\n",
      " $ Jenis.Kelamin   : Factor w/ 2 levels \"1\",\"2\": 1 2 2 1 2 1 1 2 2 2 ...\n",
      " $ Pendapatan      : int  600000 1200000 950000 400000 1200000 800000 950000 1100000 800000 1700000 ...\n",
      " $ Produk          : Factor w/ 5 levels \"A\",\"B\",\"C\",\"D\",..: 1 4 4 1 4 2 2 5 5 5 ...\n",
      " $ Harga           : int  100000 250000 250000 100000 250000 150000 150000 300000 300000 300000 ...\n",
      " $ Jumlah          : int  4 4 3 2 4 4 5 3 2 5 ...\n",
      " $ Total           : int  400000 1000000 750000 200000 1000000 600000 750000 900000 600000 1500000 ...\n",
      " $ Tingkat.Kepuasan: Factor w/ 3 levels \"1\",\"2\",\"3\": 2 2 3 3 2 3 1 3 1 1 ...\n"
     ]
    }
   ],
   "source": [
    "#Changing the data(s) type as they should be\n",
    "data$Nama <- as.factor(data$Nama)\n",
    "data$ID.Pelanggan <- as.factor(data$ID.Pelanggan)\n",
    "data$Jenis.Kelamin <- as.factor(data$Jenis.Kelamin)\n",
    "data$Tingkat.Kepuasan <- as.factor(data$Tingkat.Kepuasan)\n",
    "str(data)"
   ]
  },
  {
   "cell_type": "code",
   "execution_count": 6,
   "metadata": {},
   "outputs": [
    {
     "data": {
      "text/plain": [
       "  ID.Pelanggan      Nama    Jenis.Kelamin   Pendapatan      Produk\n",
       " 1      : 1    Arif   : 1   1: 6          Min.   : 400000   A:4   \n",
       " 2      : 1    Dian   : 1   2:14          1st Qu.: 675000   B:4   \n",
       " 3      : 1    Dinda  : 1                 Median : 875000   C:4   \n",
       " 4      : 1    Fajar  : 1                 Mean   :1160000   D:5   \n",
       " 5      : 1    Ika    : 1                 3rd Qu.:1125000   E:3   \n",
       " 6      : 1    Ilham  : 1                 Max.   :6450000         \n",
       " (Other):14    (Other):14                                         \n",
       "     Harga            Jumlah         Total         Tingkat.Kepuasan\n",
       " Min.   :100000   Min.   :1.00   Min.   : 200000   1:7             \n",
       " 1st Qu.:150000   1st Qu.:3.00   1st Qu.: 475000   2:5             \n",
       " Median :200000   Median :4.00   Median : 675000   3:8             \n",
       " Mean   :197500   Mean   :3.65   Mean   : 710000                   \n",
       " 3rd Qu.:250000   3rd Qu.:4.25   3rd Qu.: 925000                   \n",
       " Max.   :300000   Max.   :5.00   Max.   :1500000                   \n",
       "                                                                   "
      ]
     },
     "metadata": {},
     "output_type": "display_data"
    }
   ],
   "source": [
    "#Checking data scale measurement\n",
    "summary(data)"
   ]
  },
  {
   "cell_type": "code",
   "execution_count": 8,
   "metadata": {},
   "outputs": [
    {
     "data": {
      "text/html": [
       "'3'"
      ],
      "text/latex": [
       "'3'"
      ],
      "text/markdown": [
       "'3'"
      ],
      "text/plain": [
       "[1] \"3\""
      ]
     },
     "metadata": {},
     "output_type": "display_data"
    },
    {
     "data": {
      "text/html": [
       "'2'"
      ],
      "text/latex": [
       "'2'"
      ],
      "text/markdown": [
       "'2'"
      ],
      "text/plain": [
       "[1] \"2\""
      ]
     },
     "metadata": {},
     "output_type": "display_data"
    }
   ],
   "source": [
    "#Finding mode in the data\n",
    "library(pracma) \n",
    "Mode(data$Tingkat.Kepuasan)\n",
    "Mode(data$Jenis.Kelamin)"
   ]
  },
  {
   "cell_type": "code",
   "execution_count": 11,
   "metadata": {},
   "outputs": [
    {
     "data": {
      "text/html": [
       "2e+05"
      ],
      "text/latex": [
       "2e+05"
      ],
      "text/markdown": [
       "2e+05"
      ],
      "text/plain": [
       "[1] 2e+05"
      ]
     },
     "metadata": {},
     "output_type": "display_data"
    },
    {
     "data": {
      "text/html": [
       "675000"
      ],
      "text/latex": [
       "675000"
      ],
      "text/markdown": [
       "675000"
      ],
      "text/plain": [
       "[1] 675000"
      ]
     },
     "metadata": {},
     "output_type": "display_data"
    }
   ],
   "source": [
    "#Finding median in the data\n",
    "median(data$Harga)\n",
    "median(data$Total)\n",
    "\n",
    "#2e+05 equal to 2 * 10^5"
   ]
  },
  {
   "cell_type": "code",
   "execution_count": 15,
   "metadata": {},
   "outputs": [
    {
     "data": {
      "text/html": [
       "197500"
      ],
      "text/latex": [
       "197500"
      ],
      "text/markdown": [
       "197500"
      ],
      "text/plain": [
       "[1] 197500"
      ]
     },
     "metadata": {},
     "output_type": "display_data"
    },
    {
     "data": {
      "text/html": [
       "710000"
      ],
      "text/latex": [
       "710000"
      ],
      "text/markdown": [
       "710000"
      ],
      "text/plain": [
       "[1] 710000"
      ]
     },
     "metadata": {},
     "output_type": "display_data"
    }
   ],
   "source": [
    "#Finding mean in the data\n",
    "mean(data$Harga)\n",
    "mean(data$Total)"
   ]
  },
  {
   "cell_type": "code",
   "execution_count": 16,
   "metadata": {},
   "outputs": [
    {
     "data": {
      "text/html": [
       "6050000"
      ],
      "text/latex": [
       "6050000"
      ],
      "text/markdown": [
       "6050000"
      ],
      "text/plain": [
       "[1] 6050000"
      ]
     },
     "metadata": {},
     "output_type": "display_data"
    }
   ],
   "source": [
    "#Finding range in the data\n",
    "range <- max(data$Pendapatan) - min(data$Pendapatan)\n",
    "range"
   ]
  },
  {
   "cell_type": "code",
   "execution_count": 17,
   "metadata": {},
   "outputs": [
    {
     "data": {
      "text/html": [
       "1645684210526.32"
      ],
      "text/latex": [
       "1645684210526.32"
      ],
      "text/markdown": [
       "1645684210526.32"
      ],
      "text/plain": [
       "[1] 1.645684e+12"
      ]
     },
     "metadata": {},
     "output_type": "display_data"
    },
    {
     "data": {
      "text/html": [
       "4861842105.26316"
      ],
      "text/latex": [
       "4861842105.26316"
      ],
      "text/markdown": [
       "4861842105.26316"
      ],
      "text/plain": [
       "[1] 4861842105"
      ]
     },
     "metadata": {},
     "output_type": "display_data"
    },
    {
     "data": {
      "text/html": [
       "111473684210.526"
      ],
      "text/latex": [
       "111473684210.526"
      ],
      "text/markdown": [
       "111473684210.526"
      ],
      "text/plain": [
       "[1] 111473684211"
      ]
     },
     "metadata": {},
     "output_type": "display_data"
    }
   ],
   "source": [
    "#Finding varians in the data\n",
    "var(data$Pendapatan)\n",
    "var(data$Harga)\n",
    "var(data$Total)"
   ]
  },
  {
   "cell_type": "code",
   "execution_count": 18,
   "metadata": {},
   "outputs": [
    {
     "data": {
      "text/html": [
       "1282842.23914179"
      ],
      "text/latex": [
       "1282842.23914179"
      ],
      "text/markdown": [
       "1282842.23914179"
      ],
      "text/plain": [
       "[1] 1282842"
      ]
     },
     "metadata": {},
     "output_type": "display_data"
    },
    {
     "data": {
      "text/html": [
       "69726.9109115208"
      ],
      "text/latex": [
       "69726.9109115208"
      ],
      "text/markdown": [
       "69726.9109115208"
      ],
      "text/plain": [
       "[1] 69726.91"
      ]
     },
     "metadata": {},
     "output_type": "display_data"
    },
    {
     "data": {
      "text/html": [
       "333876.750029897"
      ],
      "text/latex": [
       "333876.750029897"
      ],
      "text/markdown": [
       "333876.750029897"
      ],
      "text/plain": [
       "[1] 333876.8"
      ]
     },
     "metadata": {},
     "output_type": "display_data"
    }
   ],
   "source": [
    "#Finding standard deviation in the data\n",
    "std(data$Pendapatan)\n",
    "std(data$Harga)\n",
    "std(data$Total)"
   ]
  },
  {
   "cell_type": "code",
   "execution_count": 20,
   "metadata": {},
   "outputs": [
    {
     "data": {
      "text/plain": [
       "  ID.Pelanggan      Nama    Jenis.Kelamin   Pendapatan      Produk\n",
       " 1      : 1    Arif   : 1   1: 6          Min.   : 400000   A:4   \n",
       " 2      : 1    Dian   : 1   2:14          1st Qu.: 675000   B:4   \n",
       " 3      : 1    Dinda  : 1                 Median : 875000   C:4   \n",
       " 4      : 1    Fajar  : 1                 Mean   :1160000   D:5   \n",
       " 5      : 1    Ika    : 1                 3rd Qu.:1125000   E:3   \n",
       " 6      : 1    Ilham  : 1                 Max.   :6450000         \n",
       " (Other):14    (Other):14                                         \n",
       "     Harga            Jumlah         Total         Tingkat.Kepuasan\n",
       " Min.   :100000   Min.   :1.00   Min.   : 200000   1:7             \n",
       " 1st Qu.:150000   1st Qu.:3.00   1st Qu.: 475000   2:5             \n",
       " Median :200000   Median :4.00   Median : 675000   3:8             \n",
       " Mean   :197500   Mean   :3.65   Mean   : 710000                   \n",
       " 3rd Qu.:250000   3rd Qu.:4.25   3rd Qu.: 925000                   \n",
       " Max.   :300000   Max.   :5.00   Max.   :1500000                   \n",
       "                                                                   "
      ]
     },
     "metadata": {},
     "output_type": "display_data"
    },
    {
     "name": "stdout",
     "output_type": "stream",
     "text": [
      "'data.frame':\t20 obs. of  9 variables:\n",
      " $ ID.Pelanggan    : Factor w/ 20 levels \"1\",\"2\",\"3\",\"4\",..: 1 2 3 4 5 6 7 8 9 10 ...\n",
      " $ Nama            : Factor w/ 20 levels \"Arif\",\"Dian\",..: 1 2 3 4 5 6 7 8 9 10 ...\n",
      " $ Jenis.Kelamin   : Factor w/ 2 levels \"1\",\"2\": 1 2 2 1 2 1 1 2 2 2 ...\n",
      " $ Pendapatan      : int  600000 1200000 950000 400000 1200000 800000 950000 1100000 800000 1700000 ...\n",
      " $ Produk          : Factor w/ 5 levels \"A\",\"B\",\"C\",\"D\",..: 1 4 4 1 4 2 2 5 5 5 ...\n",
      " $ Harga           : int  100000 250000 250000 100000 250000 150000 150000 300000 300000 300000 ...\n",
      " $ Jumlah          : int  4 4 3 2 4 4 5 3 2 5 ...\n",
      " $ Total           : int  400000 1000000 750000 200000 1000000 600000 750000 900000 600000 1500000 ...\n",
      " $ Tingkat.Kepuasan: Factor w/ 3 levels \"1\",\"2\",\"3\": 2 2 3 3 2 3 1 3 1 1 ...\n"
     ]
    }
   ],
   "source": [
    "#Descriptive analytics\n",
    "summary(data)\n",
    "str(data)"
   ]
  },
  {
   "cell_type": "code",
   "execution_count": 22,
   "metadata": {},
   "outputs": [
    {
     "data": {
      "image/png": "[encoded data removed]",
      "text/plain": [
       "plot without title"
      ]
     },
     "metadata": {},
     "output_type": "display_data"
    },
    {
     "data": {
      "image/png": "[encoded data removed]",
      "text/plain": [
       "Plot with title \"Histogram of data$Harga\""
      ]
     },
     "metadata": {},
     "output_type": "display_data"
    }
   ],
   "source": [
    "#Descriptive analytics with visualization\n",
    "plot(data$Produk) #Plot can be used if the data is qualitative\n",
    "hist(data$Harga) #Histogram can be used if the data is quantitative"
   ]
  },
  {
   "cell_type": "code",
   "execution_count": 24,
   "metadata": {},
   "outputs": [
    {
     "data": {
      "text/plain": [
       "\n",
       "\tPearson's product-moment correlation\n",
       "\n",
       "data:  data$Pendapatan and data$Jumlah\n",
       "t = 1.8507, df = 18, p-value = 0.0807\n",
       "alternative hypothesis: true correlation is not equal to 0\n",
       "95 percent confidence interval:\n",
       " -0.05187363  0.71571402\n",
       "sample estimates:\n",
       "      cor \n",
       "0.3998252 \n"
      ]
     },
     "metadata": {},
     "output_type": "display_data"
    },
    {
     "data": {
      "image/png": "[encoded data removed]",
      "text/plain": [
       "plot without title"
      ]
     },
     "metadata": {},
     "output_type": "display_data"
    }
   ],
   "source": [
    "#Making scatter plot and applying correlation test\n",
    "plot(data$Pendapatan,data$Jumlah)\n",
    "cor.test(data$Pendapatan,data$Jumlah)"
   ]
  },
  {
   "cell_type": "code",
   "execution_count": 27,
   "metadata": {},
   "outputs": [
    {
     "data": {
      "text/plain": [
       "   \n",
       "    1 2\n",
       "  A 2 2\n",
       "  B 2 2\n",
       "  C 2 2\n",
       "  D 0 5\n",
       "  E 0 3"
      ]
     },
     "metadata": {},
     "output_type": "display_data"
    },
    {
     "name": "stderr",
     "output_type": "stream",
     "text": [
      "Warning message in chisq.test(table(data$Produk, data$Jenis.Kelamin)):\n",
      "\"Chi-squared approximation may be incorrect\""
     ]
    },
    {
     "data": {
      "text/plain": [
       "\n",
       "\tPearson's Chi-squared test\n",
       "\n",
       "data:  table(data$Produk, data$Jenis.Kelamin)\n",
       "X-squared = 5.7143, df = 4, p-value = 0.2215\n"
      ]
     },
     "metadata": {},
     "output_type": "display_data"
    }
   ],
   "source": [
    "#Applying Chi-Square test\n",
    "table(data$Produk,data$Jenis.Kelamin)\n",
    "chisq.test(table(data$Produk,data$Jenis.Kelamin))"
   ]
  },
  {
   "cell_type": "code",
   "execution_count": 29,
   "metadata": {},
   "outputs": [
    {
     "data": {
      "text/plain": [
       "\n",
       "\tWelch Two Sample t-test\n",
       "\n",
       "data:  Total by Jenis.Kelamin\n",
       "t = -1.1498, df = 12.133, p-value = 0.2724\n",
       "alternative hypothesis: true difference in means is not equal to 0\n",
       "95 percent confidence interval:\n",
       " -488985.4  150890.2\n",
       "sample estimates:\n",
       "mean in group 1 mean in group 2 \n",
       "       591666.7        760714.3 \n"
      ]
     },
     "metadata": {},
     "output_type": "display_data"
    },
    {
     "data": {
      "image/png": "[encoded data removed]",
      "text/plain": [
       "plot without title"
      ]
     },
     "metadata": {},
     "output_type": "display_data"
    }
   ],
   "source": [
    "#Applying t-test\n",
    "boxplot(Total~Jenis.Kelamin,data=data)\n",
    "t.test(Total~Jenis.Kelamin,data=data)"
   ]
  },
  {
   "cell_type": "markdown",
   "metadata": {},
   "source": [
    "Learning source = www.dqlab.id"
   ]
  }
 ],
 "metadata": {
  "kernelspec": {
   "display_name": "R",
   "language": "R",
   "name": "ir"
  },
  "language_info": {
   "codemirror_mode": "r",
   "file_extension": ".r",
   "mimetype": "text/x-r-source",
   "name": "R",
   "pygments_lexer": "r",
   "version": "3.6.1"
  }
 },
 "nbformat": 4,
 "nbformat_minor": 4
}
