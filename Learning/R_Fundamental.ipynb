{
 "cells": [
  {
   "cell_type": "markdown",
   "metadata": {},
   "source": [
    "##### Function \"print\" for prints the specified message to the screen, or other standard output device"
   ]
  },
  {
   "cell_type": "code",
   "execution_count": 1,
   "metadata": {},
   "outputs": [
    {
     "name": "stdout",
     "output_type": "stream",
     "text": [
      "[1] 10\n",
      "[1] \"Hello World\"\n",
      "[1] TRUE\n"
     ]
    }
   ],
   "source": [
    "print(5+5)\n",
    "print(\"Hello World\")\n",
    "print(TRUE)"
   ]
  },
  {
   "cell_type": "code",
   "execution_count": null,
   "metadata": {},
   "outputs": [],
   "source": [
    "----------------------"
   ]
  },
  {
   "cell_type": "markdown",
   "metadata": {},
   "source": [
    "##### R is case sensitive"
   ]
  },
  {
   "cell_type": "code",
   "execution_count": 5,
   "metadata": {},
   "outputs": [
    {
     "name": "stdout",
     "output_type": "stream",
     "text": [
      "[1] \"Me\"\n",
      "[1] \"ME\"\n",
      "[1] \"01\"\n",
      "[1] \"1\"\n"
     ]
    }
   ],
   "source": [
    "print(\"Me\")\n",
    "#Not same with\n",
    "print(\"ME\")\n",
    "\n",
    "print(\"01\")\n",
    "#Not same with\n",
    "print(\"1\")"
   ]
  },
  {
   "cell_type": "code",
   "execution_count": null,
   "metadata": {},
   "outputs": [],
   "source": [
    "----------------------"
   ]
  },
  {
   "cell_type": "markdown",
   "metadata": {},
   "source": [
    "###### \"c\" Function for makes continues number"
   ]
  },
  {
   "cell_type": "code",
   "execution_count": 10,
   "metadata": {},
   "outputs": [
    {
     "data": {
      "text/html": [
       "<ol class=list-inline>\n",
       "\t<li>1</li>\n",
       "\t<li>2</li>\n",
       "\t<li>3</li>\n",
       "\t<li>4</li>\n",
       "\t<li>5</li>\n",
       "\t<li>6</li>\n",
       "\t<li>7</li>\n",
       "\t<li>8</li>\n",
       "\t<li>9</li>\n",
       "\t<li>10</li>\n",
       "</ol>\n"
      ],
      "text/latex": [
       "\\begin{enumerate*}\n",
       "\\item 1\n",
       "\\item 2\n",
       "\\item 3\n",
       "\\item 4\n",
       "\\item 5\n",
       "\\item 6\n",
       "\\item 7\n",
       "\\item 8\n",
       "\\item 9\n",
       "\\item 10\n",
       "\\end{enumerate*}\n"
      ],
      "text/markdown": [
       "1. 1\n",
       "2. 2\n",
       "3. 3\n",
       "4. 4\n",
       "5. 5\n",
       "6. 6\n",
       "7. 7\n",
       "8. 8\n",
       "9. 9\n",
       "10. 10\n",
       "\n",
       "\n"
      ],
      "text/plain": [
       " [1]  1  2  3  4  5  6  7  8  9 10"
      ]
     },
     "metadata": {},
     "output_type": "display_data"
    },
    {
     "data": {
      "text/html": [
       "<ol class=list-inline>\n",
       "\t<li>1</li>\n",
       "\t<li>2</li>\n",
       "\t<li>3</li>\n",
       "\t<li>4</li>\n",
       "\t<li>5</li>\n",
       "\t<li>6</li>\n",
       "\t<li>7</li>\n",
       "\t<li>8</li>\n",
       "\t<li>9</li>\n",
       "\t<li>10</li>\n",
       "</ol>\n"
      ],
      "text/latex": [
       "\\begin{enumerate*}\n",
       "\\item 1\n",
       "\\item 2\n",
       "\\item 3\n",
       "\\item 4\n",
       "\\item 5\n",
       "\\item 6\n",
       "\\item 7\n",
       "\\item 8\n",
       "\\item 9\n",
       "\\item 10\n",
       "\\end{enumerate*}\n"
      ],
      "text/markdown": [
       "1. 1\n",
       "2. 2\n",
       "3. 3\n",
       "4. 4\n",
       "5. 5\n",
       "6. 6\n",
       "7. 7\n",
       "8. 8\n",
       "9. 9\n",
       "10. 10\n",
       "\n",
       "\n"
      ],
      "text/plain": [
       " [1]  1  2  3  4  5  6  7  8  9 10"
      ]
     },
     "metadata": {},
     "output_type": "display_data"
    }
   ],
   "source": [
    "c(1,2,3,4,5,6,7,8,9,10)\n",
    "#Same with\n",
    "c(1:10)"
   ]
  },
  {
   "cell_type": "code",
   "execution_count": null,
   "metadata": {},
   "outputs": [],
   "source": [
    "----------------------"
   ]
  },
  {
   "cell_type": "markdown",
   "metadata": {},
   "source": [
    "##### Variable in R"
   ]
  },
  {
   "cell_type": "code",
   "execution_count": 11,
   "metadata": {},
   "outputs": [
    {
     "name": "stdout",
     "output_type": "stream",
     "text": [
      "[1] \"Hello World\"\n",
      "[1] 57\n"
     ]
    }
   ],
   "source": [
    "a <- \"Hello World\"\n",
    "b <- 57\n",
    "print(a)\n",
    "print(b)"
   ]
  },
  {
   "cell_type": "code",
   "execution_count": null,
   "metadata": {},
   "outputs": [],
   "source": [
    "----------------------"
   ]
  },
  {
   "cell_type": "markdown",
   "metadata": {},
   "source": [
    "##### Making Vector in R"
   ]
  },
  {
   "cell_type": "code",
   "execution_count": 12,
   "metadata": {},
   "outputs": [
    {
     "name": "stdout",
     "output_type": "stream",
     "text": [
      "[1] 51 45 67\n"
     ]
    }
   ],
   "source": [
    "Vector <- c(51,45,67)\n",
    "print(Vector)"
   ]
  },
  {
   "cell_type": "code",
   "execution_count": null,
   "metadata": {},
   "outputs": [],
   "source": [
    "----------------------"
   ]
  },
  {
   "cell_type": "markdown",
   "metadata": {},
   "source": [
    "##### Continues Vector and Manual Vector"
   ]
  },
  {
   "cell_type": "code",
   "execution_count": 14,
   "metadata": {},
   "outputs": [
    {
     "name": "stdout",
     "output_type": "stream",
     "text": [
      " [1] 10 11 12 13 14 15 16 17 18 19 20\n",
      " [1] 10 11 12 13 14 15 16 17 18 19 20\n"
     ]
    }
   ],
   "source": [
    "manual <- c(10,11,12,13,14,15,16,17,18,19,20)\n",
    "#Same with\n",
    "vector <- c(10:20)\n",
    "\n",
    "print(manual)\n",
    "print(vector)"
   ]
  },
  {
   "cell_type": "code",
   "execution_count": null,
   "metadata": {},
   "outputs": [],
   "source": [
    "----------------------"
   ]
  },
  {
   "cell_type": "markdown",
   "metadata": {},
   "source": [
    "##### Vector can contains text"
   ]
  },
  {
   "cell_type": "code",
   "execution_count": 15,
   "metadata": {},
   "outputs": [
    {
     "name": "stdout",
     "output_type": "stream",
     "text": [
      "[1] \"I\"    \"Love\" \"You\" \n"
     ]
    }
   ],
   "source": [
    "vector <- c(\"I\",\"Love\",\"You\")\n",
    "print(vector)"
   ]
  },
  {
   "cell_type": "code",
   "execution_count": null,
   "metadata": {},
   "outputs": [],
   "source": [
    "----------------------"
   ]
  },
  {
   "cell_type": "markdown",
   "metadata": {},
   "source": [
    "##### Vector Indexing"
   ]
  },
  {
   "cell_type": "code",
   "execution_count": 19,
   "metadata": {},
   "outputs": [
    {
     "name": "stdout",
     "output_type": "stream",
     "text": [
      "[1] 85\n",
      "[1] 98\n",
      "[1]  82  98  93 100\n"
     ]
    }
   ],
   "source": [
    "vector <- c(80,85,87,83,82,98,93,100)\n",
    "print(vector[[2]]) #Print index number 2 from left\n",
    "print(vector[6]) #Print index number 6 from left\n",
    "print(vector[5:8]) #Print index number 5 to 8 from left"
   ]
  },
  {
   "cell_type": "code",
   "execution_count": null,
   "metadata": {},
   "outputs": [],
   "source": [
    "----------------------"
   ]
  },
  {
   "cell_type": "markdown",
   "metadata": {},
   "source": [
    "##### Named Vector"
   ]
  },
  {
   "cell_type": "code",
   "execution_count": 26,
   "metadata": {},
   "outputs": [
    {
     "name": "stdout",
     "output_type": "stream",
     "text": [
      "        language machine_learning      data_mining \n",
      "             \"R\"            \"Yes\"            \"Yes\" \n",
      "machine_learning \n",
      "           \"Yes\" \n"
     ]
    }
   ],
   "source": [
    "named <- c(language=\"R\",machine_learning=\"Yes\",data_mining=\"Yes\")\n",
    "print(named)\n",
    "print(named[\"machine_learning\"]) #Print object named \"machine_learning\""
   ]
  },
  {
   "cell_type": "code",
   "execution_count": null,
   "metadata": {},
   "outputs": [],
   "source": [
    "----------------------"
   ]
  },
  {
   "cell_type": "markdown",
   "metadata": {},
   "source": [
    "##### List"
   ]
  },
  {
   "cell_type": "code",
   "execution_count": 29,
   "metadata": {},
   "outputs": [
    {
     "name": "stdout",
     "output_type": "stream",
     "text": [
      "[[1]]\n",
      "[1] \"I\"\n",
      "\n",
      "[[2]]\n",
      "[1] \"am\"\n",
      "\n",
      "[[3]]\n",
      "[1] 100\n",
      "\n",
      "[[4]]\n",
      "[1] \"%\"\n",
      "\n",
      "[[5]]\n",
      "[1] \"Human\"\n",
      "\n"
     ]
    }
   ],
   "source": [
    "alist <- list(\"I\",\"am\",100,\"%\",\"Human\")\n",
    "print(alist)"
   ]
  },
  {
   "cell_type": "code",
   "execution_count": null,
   "metadata": {},
   "outputs": [],
   "source": [
    "----------------------"
   ]
  },
  {
   "cell_type": "markdown",
   "metadata": {},
   "source": [
    "##### List Indexing"
   ]
  },
  {
   "cell_type": "code",
   "execution_count": 30,
   "metadata": {},
   "outputs": [
    {
     "name": "stdout",
     "output_type": "stream",
     "text": [
      "[[1]]\n",
      "[1] 100\n",
      "\n",
      "[[1]]\n",
      "[1] \"I\"\n",
      "\n",
      "[[2]]\n",
      "[1] \"am\"\n",
      "\n",
      "[[3]]\n",
      "[1] 100\n",
      "\n",
      "[[4]]\n",
      "[1] \"%\"\n",
      "\n"
     ]
    }
   ],
   "source": [
    "alist <- list(\"I\",\"am\",100,\"%\",\"Human\")\n",
    "print(alist[3]) #Print index number 3\n",
    "print(alist[1:4]) #Print index number 1 to 4"
   ]
  },
  {
   "cell_type": "code",
   "execution_count": null,
   "metadata": {},
   "outputs": [],
   "source": [
    "----------------------"
   ]
  },
  {
   "cell_type": "markdown",
   "metadata": {},
   "source": [
    "##### Data Frame in R"
   ]
  },
  {
   "cell_type": "code",
   "execution_count": 48,
   "metadata": {},
   "outputs": [
    {
     "name": "stdout",
     "output_type": "stream",
     "text": [
      "          fakultas jumlah_mahasiswa\n",
      "1 Teknik Pertanian              450\n",
      "2 Sistem Informasi              670\n",
      "3       Statistika              490\n",
      "4       Matematika              421\n",
      "5    Ilmu Komputer              577\n"
     ]
    }
   ],
   "source": [
    "jumlah_mahasiswa <- c(450,670,490,421,577)\n",
    "fakultas <- c(\"Teknik Pertanian\",\"Sistem Informasi\",\"Statistika\",\"Matematika\",\"Ilmu Komputer\")\n",
    "dataframe <- data.frame(fakultas,jumlah_mahasiswa)\n",
    "print(dataframe)"
   ]
  },
  {
   "cell_type": "code",
   "execution_count": null,
   "metadata": {},
   "outputs": [],
   "source": [
    "----------------------"
   ]
  },
  {
   "cell_type": "markdown",
   "metadata": {},
   "source": [
    "##### Taking column from data frame"
   ]
  },
  {
   "cell_type": "code",
   "execution_count": 49,
   "metadata": {},
   "outputs": [
    {
     "data": {
      "text/html": [
       "<ol class=list-inline>\n",
       "\t<li>Teknik Pertanian</li>\n",
       "\t<li>Sistem Informasi</li>\n",
       "\t<li>Statistika</li>\n",
       "\t<li>Matematika</li>\n",
       "\t<li>Ilmu Komputer</li>\n",
       "</ol>\n",
       "\n",
       "<details>\n",
       "\t<summary style=display:list-item;cursor:pointer>\n",
       "\t\t<strong>Levels</strong>:\n",
       "\t</summary>\n",
       "\t<ol class=list-inline>\n",
       "\t\t<li>'Ilmu Komputer'</li>\n",
       "\t\t<li>'Matematika'</li>\n",
       "\t\t<li>'Sistem Informasi'</li>\n",
       "\t\t<li>'Statistika'</li>\n",
       "\t\t<li>'Teknik Pertanian'</li>\n",
       "\t</ol>\n",
       "</details>"
      ],
      "text/latex": [
       "\\begin{enumerate*}\n",
       "\\item Teknik Pertanian\n",
       "\\item Sistem Informasi\n",
       "\\item Statistika\n",
       "\\item Matematika\n",
       "\\item Ilmu Komputer\n",
       "\\end{enumerate*}\n",
       "\n",
       "\\emph{Levels}: \\begin{enumerate*}\n",
       "\\item 'Ilmu Komputer'\n",
       "\\item 'Matematika'\n",
       "\\item 'Sistem Informasi'\n",
       "\\item 'Statistika'\n",
       "\\item 'Teknik Pertanian'\n",
       "\\end{enumerate*}\n"
      ],
      "text/markdown": [
       "1. Teknik Pertanian\n",
       "2. Sistem Informasi\n",
       "3. Statistika\n",
       "4. Matematika\n",
       "5. Ilmu Komputer\n",
       "\n",
       "\n",
       "\n",
       "**Levels**: 1. 'Ilmu Komputer'\n",
       "2. 'Matematika'\n",
       "3. 'Sistem Informasi'\n",
       "4. 'Statistika'\n",
       "5. 'Teknik Pertanian'\n",
       "\n",
       "\n"
      ],
      "text/plain": [
       "[1] Teknik Pertanian Sistem Informasi Statistika       Matematika      \n",
       "[5] Ilmu Komputer   \n",
       "5 Levels: Ilmu Komputer Matematika Sistem Informasi ... Teknik Pertanian"
      ]
     },
     "metadata": {},
     "output_type": "display_data"
    },
    {
     "data": {
      "text/html": [
       "<ol class=list-inline>\n",
       "\t<li>450</li>\n",
       "\t<li>670</li>\n",
       "\t<li>490</li>\n",
       "\t<li>421</li>\n",
       "\t<li>577</li>\n",
       "</ol>\n"
      ],
      "text/latex": [
       "\\begin{enumerate*}\n",
       "\\item 450\n",
       "\\item 670\n",
       "\\item 490\n",
       "\\item 421\n",
       "\\item 577\n",
       "\\end{enumerate*}\n"
      ],
      "text/markdown": [
       "1. 450\n",
       "2. 670\n",
       "3. 490\n",
       "4. 421\n",
       "5. 577\n",
       "\n",
       "\n"
      ],
      "text/plain": [
       "[1] 450 670 490 421 577"
      ]
     },
     "metadata": {},
     "output_type": "display_data"
    }
   ],
   "source": [
    "jumlah_mahasiswa <- c(450,670,490,421,577)\n",
    "fakultas <- c(\"Teknik Pertanian\",\"Sistem Informasi\",\"Statistika\",\"Matematika\",\"Ilmu Komputer\")\n",
    "dataframe <- data.frame(fakultas,jumlah_mahasiswa)\n",
    "dataframe$fakultas\n",
    "dataframe$jumlah_mahasiswa"
   ]
  },
  {
   "cell_type": "code",
   "execution_count": null,
   "metadata": {},
   "outputs": [],
   "source": [
    "----------------------"
   ]
  },
  {
   "cell_type": "markdown",
   "metadata": {},
   "source": [
    "##### Making chart with ggplot2"
   ]
  },
  {
   "cell_type": "code",
   "execution_count": 55,
   "metadata": {},
   "outputs": [
    {
     "data": {
      "image/png": "[encoded data removed]",
      "text/plain": [
       "plot without title"
      ]
     },
     "metadata": {},
     "output_type": "display_data"
    }
   ],
   "source": [
    "library(ggplot2) #Importing ggplot2 library\n",
    "jumlah_mahasiswa <- c(450,670,490,421,577)\n",
    "fakultas <- c(\"Teknik Pertanian\",\"Sistem Informasi\",\"Statistika\",\"Matematika\",\"Ilmu Komputer\")\n",
    "dataframe <- data.frame(prodi,jumlah_mahasiswa)\n",
    "plot <- ggplot(dataframe,aes(x=fakultas,y=jumlah_mahasiswa,fill=fakultas))\n",
    "plot <- plot + geom_bar(width=0.9,stat=\"identity\")\n",
    "plot"
   ]
  },
  {
   "cell_type": "code",
   "execution_count": null,
   "metadata": {},
   "outputs": [],
   "source": [
    "----------------------"
   ]
  },
  {
   "cell_type": "markdown",
   "metadata": {},
   "source": [
    "##### Adding title and other informations"
   ]
  },
  {
   "cell_type": "code",
   "execution_count": 54,
   "metadata": {},
   "outputs": [
    {
     "data": {
      "image/png": "[encoded data removed]",
      "text/plain": [
       "plot without title"
      ]
     },
     "metadata": {},
     "output_type": "display_data"
    }
   ],
   "source": [
    "library(ggplot2) #Importing ggplot2 library\n",
    "jumlah_mahasiswa <- c(450,670,490,421,577)\n",
    "fakultas <- c(\"Teknik Pertanian\",\"Sistem Informasi\",\"Statistika\",\"Matematika\",\"Ilmu Komputer\")\n",
    "dataframe <- data.frame(prodi,jumlah_mahasiswa)\n",
    "plot <- ggplot(dataframe,aes(x=fakultas,y=jumlah_mahasiswa,fill=fakultas))\n",
    "plot <- plot + geom_bar(width=0.9,stat=\"identity\")\n",
    "plot <- plot + ggtitle(\"Grafik Jumlah Mahasiswa Terhadap Fakultas\") #Adding title\n",
    "plot <- plot + xlab(\"Fakultas\") #Adding bottom information\n",
    "plot <- plot + ylab(\"Jumlah Mahasiswa\") # Adding side information\n",
    "plot"
   ]
  },
  {
   "cell_type": "code",
   "execution_count": null,
   "metadata": {},
   "outputs": [],
   "source": [
    "----------------------"
   ]
  },
  {
   "cell_type": "markdown",
   "metadata": {},
   "source": [
    "##### Reading .xlsx file in R"
   ]
  },
  {
   "cell_type": "code",
   "execution_count": 46,
   "metadata": {},
   "outputs": [
    {
     "data": {
      "text/html": [
       "<table>\n",
       "<thead><tr><th scope=col>ANGKATAN</th><th scope=col>Fakultas</th><th scope=col>Prodi</th><th scope=col>Kode</th><th scope=col>JUMLAH</th></tr></thead>\n",
       "<tbody>\n",
       "\t<tr><td>2015                          </td><td>Bisnis                        </td><td>Akuntansi                     </td><td>AKUN                          </td><td> 88                           </td></tr>\n",
       "\t<tr><td>2016                          </td><td>Bisnis                        </td><td>Akuntansi                     </td><td>AKUN                          </td><td> 85                           </td></tr>\n",
       "\t<tr><td>2017                          </td><td>Bisnis                        </td><td>Akuntansi                     </td><td>AKUN                          </td><td>103                           </td></tr>\n",
       "\t<tr><td>2016                          </td><td>Seni dan Desain               </td><td>Arsitek                       </td><td>AR                            </td><td> 28                           </td></tr>\n",
       "\t<tr><td>2017                          </td><td>Seni dan Desain               </td><td>Arsitek                       </td><td>AR                            </td><td> 45                           </td></tr>\n",
       "\t<tr><td>2015                          </td><td>Seni dan Desain               </td><td>Desain Komunikasi Visual      </td><td>DKV                           </td><td>279                           </td></tr>\n",
       "\t<tr><td>2016                          </td><td>Seni dan Desain               </td><td>Desain Komunikasi Visual      </td><td>DKV                           </td><td>314                           </td></tr>\n",
       "\t<tr><td>2017                          </td><td>Seni dan Desain               </td><td>Desain Komunikasi Visual      </td><td>DKV                           </td><td>337                           </td></tr>\n",
       "\t<tr><td>2015                          </td><td>Seni dan Desain               </td><td>Film dan Televisi             </td><td>FTV                           </td><td>284                           </td></tr>\n",
       "\t<tr><td>2016                          </td><td>Seni dan Desain               </td><td>Film dan Televisi             </td><td>FTV                           </td><td>274                           </td></tr>\n",
       "\t<tr><td>2017                          </td><td>Seni dan Desain               </td><td>Film dan Televisi             </td><td>FTV                           </td><td>300                           </td></tr>\n",
       "\t<tr><td>2015                          </td><td>Ilmu Komunikasi               </td><td>Ilmu Komunikasi               </td><td>ILKOM                         </td><td>499                           </td></tr>\n",
       "\t<tr><td>2016                          </td><td>Ilmu Komunikasi               </td><td>Ilmu Komunikasi               </td><td>ILKOM                         </td><td>275                           </td></tr>\n",
       "\t<tr><td>2017                          </td><td>Ilmu Komunikasi               </td><td>Ilmu Komunikasi               </td><td>ILKOM                         </td><td>313                           </td></tr>\n",
       "\t<tr><td>2015                          </td><td>Ilmu Komunikasi               </td><td>Jurnalistik                   </td><td>JR                            </td><td>  1                           </td></tr>\n",
       "\t<tr><td>2016                          </td><td>Ilmu Komunikasi               </td><td>Jurnalistik                   </td><td>JR                            </td><td>251                           </td></tr>\n",
       "\t<tr><td>2017                          </td><td>Ilmu Komunikasi               </td><td>Jurnalistik                   </td><td>JR                            </td><td>186                           </td></tr>\n",
       "\t<tr><td>2015                          </td><td>Bisnis                        </td><td>Manajemen                     </td><td>MAN                           </td><td>169                           </td></tr>\n",
       "\t<tr><td>2016                          </td><td>Bisnis                        </td><td>Manajemen                     </td><td>MAN                           </td><td>163                           </td></tr>\n",
       "\t<tr><td>2017                          </td><td>Bisnis                        </td><td>Manajemen                     </td><td>MAN                           </td><td>160                           </td></tr>\n",
       "\t<tr><td>2017                          </td><td>D3 Perhotelan                 </td><td>Perhotelan                    </td><td>HTL                           </td><td> 28                           </td></tr>\n",
       "\t<tr><td>2015                          </td><td>ICT                           </td><td>Sistem Informasi              </td><td>SI                            </td><td>104                           </td></tr>\n",
       "\t<tr><td>2016                          </td><td>ICT                           </td><td>Sistem Informasi              </td><td>SI                            </td><td> 95                           </td></tr>\n",
       "\t<tr><td>2017                          </td><td>ICT                           </td><td>Sistem Informasi              </td><td>SI                            </td><td>113                           </td></tr>\n",
       "\t<tr><td>2015                          </td><td>ICT                           </td><td>Sistem Komputer               </td><td>SK                            </td><td> 20                           </td></tr>\n",
       "\t<tr><td>2016                          </td><td>ICT                           </td><td>Sistem Komputer               </td><td>SK                            </td><td> 20                           </td></tr>\n",
       "\t<tr><td>2017                          </td><td>ICT                           </td><td>Sistem Komputer               </td><td>SK                            </td><td> 18                           </td></tr>\n",
       "\t<tr><td>2016                          </td><td>ICT                           </td><td>Teknik Elektro                </td><td>TE                            </td><td>  4                           </td></tr>\n",
       "\t<tr><td>2017                          </td><td>ICT                           </td><td>Teknik Elektro                </td><td>TE                            </td><td>  7                           </td></tr>\n",
       "\t<tr><td>2016                          </td><td>ICT                           </td><td>Teknik Fisika                 </td><td>TF                            </td><td>  7                           </td></tr>\n",
       "\t<tr><td>2017                          </td><td>ICT                           </td><td>Teknik Fisika                 </td><td>TF                            </td><td> 16                           </td></tr>\n",
       "\t<tr><td>2015                          </td><td>ICT                           </td><td>Teknik Informatika            </td><td>TI                            </td><td>125                           </td></tr>\n",
       "\t<tr><td>2016                          </td><td>ICT                           </td><td>Teknik Informatika            </td><td>TI                            </td><td>168                           </td></tr>\n",
       "\t<tr><td>2017                          </td><td>ICT                           </td><td>Teknik Informatika            </td><td>TI                            </td><td>164                           </td></tr>\n",
       "\t<tr><td>2017                          </td><td>ICT                           </td><td>Teknik Informatika Dual Degree</td><td>TID                           </td><td>  6                           </td></tr>\n",
       "</tbody>\n",
       "</table>\n"
      ],
      "text/latex": [
       "\\begin{tabular}{r|lllll}\n",
       " ANGKATAN & Fakultas & Prodi & Kode & JUMLAH\\\\\n",
       "\\hline\n",
       "\t 2015                           & Bisnis                         & Akuntansi                      & AKUN                           &  88                           \\\\\n",
       "\t 2016                           & Bisnis                         & Akuntansi                      & AKUN                           &  85                           \\\\\n",
       "\t 2017                           & Bisnis                         & Akuntansi                      & AKUN                           & 103                           \\\\\n",
       "\t 2016                           & Seni dan Desain                & Arsitek                        & AR                             &  28                           \\\\\n",
       "\t 2017                           & Seni dan Desain                & Arsitek                        & AR                             &  45                           \\\\\n",
       "\t 2015                           & Seni dan Desain                & Desain Komunikasi Visual       & DKV                            & 279                           \\\\\n",
       "\t 2016                           & Seni dan Desain                & Desain Komunikasi Visual       & DKV                            & 314                           \\\\\n",
       "\t 2017                           & Seni dan Desain                & Desain Komunikasi Visual       & DKV                            & 337                           \\\\\n",
       "\t 2015                           & Seni dan Desain                & Film dan Televisi              & FTV                            & 284                           \\\\\n",
       "\t 2016                           & Seni dan Desain                & Film dan Televisi              & FTV                            & 274                           \\\\\n",
       "\t 2017                           & Seni dan Desain                & Film dan Televisi              & FTV                            & 300                           \\\\\n",
       "\t 2015                           & Ilmu Komunikasi                & Ilmu Komunikasi                & ILKOM                          & 499                           \\\\\n",
       "\t 2016                           & Ilmu Komunikasi                & Ilmu Komunikasi                & ILKOM                          & 275                           \\\\\n",
       "\t 2017                           & Ilmu Komunikasi                & Ilmu Komunikasi                & ILKOM                          & 313                           \\\\\n",
       "\t 2015                           & Ilmu Komunikasi                & Jurnalistik                    & JR                             &   1                           \\\\\n",
       "\t 2016                           & Ilmu Komunikasi                & Jurnalistik                    & JR                             & 251                           \\\\\n",
       "\t 2017                           & Ilmu Komunikasi                & Jurnalistik                    & JR                             & 186                           \\\\\n",
       "\t 2015                           & Bisnis                         & Manajemen                      & MAN                            & 169                           \\\\\n",
       "\t 2016                           & Bisnis                         & Manajemen                      & MAN                            & 163                           \\\\\n",
       "\t 2017                           & Bisnis                         & Manajemen                      & MAN                            & 160                           \\\\\n",
       "\t 2017                           & D3 Perhotelan                  & Perhotelan                     & HTL                            &  28                           \\\\\n",
       "\t 2015                           & ICT                            & Sistem Informasi               & SI                             & 104                           \\\\\n",
       "\t 2016                           & ICT                            & Sistem Informasi               & SI                             &  95                           \\\\\n",
       "\t 2017                           & ICT                            & Sistem Informasi               & SI                             & 113                           \\\\\n",
       "\t 2015                           & ICT                            & Sistem Komputer                & SK                             &  20                           \\\\\n",
       "\t 2016                           & ICT                            & Sistem Komputer                & SK                             &  20                           \\\\\n",
       "\t 2017                           & ICT                            & Sistem Komputer                & SK                             &  18                           \\\\\n",
       "\t 2016                           & ICT                            & Teknik Elektro                 & TE                             &   4                           \\\\\n",
       "\t 2017                           & ICT                            & Teknik Elektro                 & TE                             &   7                           \\\\\n",
       "\t 2016                           & ICT                            & Teknik Fisika                  & TF                             &   7                           \\\\\n",
       "\t 2017                           & ICT                            & Teknik Fisika                  & TF                             &  16                           \\\\\n",
       "\t 2015                           & ICT                            & Teknik Informatika             & TI                             & 125                           \\\\\n",
       "\t 2016                           & ICT                            & Teknik Informatika             & TI                             & 168                           \\\\\n",
       "\t 2017                           & ICT                            & Teknik Informatika             & TI                             & 164                           \\\\\n",
       "\t 2017                           & ICT                            & Teknik Informatika Dual Degree & TID                            &   6                           \\\\\n",
       "\\end{tabular}\n"
      ],
      "text/markdown": [
       "\n",
       "| ANGKATAN | Fakultas | Prodi | Kode | JUMLAH |\n",
       "|---|---|---|---|---|\n",
       "| 2015                           | Bisnis                         | Akuntansi                      | AKUN                           |  88                            |\n",
       "| 2016                           | Bisnis                         | Akuntansi                      | AKUN                           |  85                            |\n",
       "| 2017                           | Bisnis                         | Akuntansi                      | AKUN                           | 103                            |\n",
       "| 2016                           | Seni dan Desain                | Arsitek                        | AR                             |  28                            |\n",
       "| 2017                           | Seni dan Desain                | Arsitek                        | AR                             |  45                            |\n",
       "| 2015                           | Seni dan Desain                | Desain Komunikasi Visual       | DKV                            | 279                            |\n",
       "| 2016                           | Seni dan Desain                | Desain Komunikasi Visual       | DKV                            | 314                            |\n",
       "| 2017                           | Seni dan Desain                | Desain Komunikasi Visual       | DKV                            | 337                            |\n",
       "| 2015                           | Seni dan Desain                | Film dan Televisi              | FTV                            | 284                            |\n",
       "| 2016                           | Seni dan Desain                | Film dan Televisi              | FTV                            | 274                            |\n",
       "| 2017                           | Seni dan Desain                | Film dan Televisi              | FTV                            | 300                            |\n",
       "| 2015                           | Ilmu Komunikasi                | Ilmu Komunikasi                | ILKOM                          | 499                            |\n",
       "| 2016                           | Ilmu Komunikasi                | Ilmu Komunikasi                | ILKOM                          | 275                            |\n",
       "| 2017                           | Ilmu Komunikasi                | Ilmu Komunikasi                | ILKOM                          | 313                            |\n",
       "| 2015                           | Ilmu Komunikasi                | Jurnalistik                    | JR                             |   1                            |\n",
       "| 2016                           | Ilmu Komunikasi                | Jurnalistik                    | JR                             | 251                            |\n",
       "| 2017                           | Ilmu Komunikasi                | Jurnalistik                    | JR                             | 186                            |\n",
       "| 2015                           | Bisnis                         | Manajemen                      | MAN                            | 169                            |\n",
       "| 2016                           | Bisnis                         | Manajemen                      | MAN                            | 163                            |\n",
       "| 2017                           | Bisnis                         | Manajemen                      | MAN                            | 160                            |\n",
       "| 2017                           | D3 Perhotelan                  | Perhotelan                     | HTL                            |  28                            |\n",
       "| 2015                           | ICT                            | Sistem Informasi               | SI                             | 104                            |\n",
       "| 2016                           | ICT                            | Sistem Informasi               | SI                             |  95                            |\n",
       "| 2017                           | ICT                            | Sistem Informasi               | SI                             | 113                            |\n",
       "| 2015                           | ICT                            | Sistem Komputer                | SK                             |  20                            |\n",
       "| 2016                           | ICT                            | Sistem Komputer                | SK                             |  20                            |\n",
       "| 2017                           | ICT                            | Sistem Komputer                | SK                             |  18                            |\n",
       "| 2016                           | ICT                            | Teknik Elektro                 | TE                             |   4                            |\n",
       "| 2017                           | ICT                            | Teknik Elektro                 | TE                             |   7                            |\n",
       "| 2016                           | ICT                            | Teknik Fisika                  | TF                             |   7                            |\n",
       "| 2017                           | ICT                            | Teknik Fisika                  | TF                             |  16                            |\n",
       "| 2015                           | ICT                            | Teknik Informatika             | TI                             | 125                            |\n",
       "| 2016                           | ICT                            | Teknik Informatika             | TI                             | 168                            |\n",
       "| 2017                           | ICT                            | Teknik Informatika             | TI                             | 164                            |\n",
       "| 2017                           | ICT                            | Teknik Informatika Dual Degree | TID                            |   6                            |\n",
       "\n"
      ],
      "text/plain": [
       "   ANGKATAN Fakultas        Prodi                          Kode  JUMLAH\n",
       "1  2015     Bisnis          Akuntansi                      AKUN   88   \n",
       "2  2016     Bisnis          Akuntansi                      AKUN   85   \n",
       "3  2017     Bisnis          Akuntansi                      AKUN  103   \n",
       "4  2016     Seni dan Desain Arsitek                        AR     28   \n",
       "5  2017     Seni dan Desain Arsitek                        AR     45   \n",
       "6  2015     Seni dan Desain Desain Komunikasi Visual       DKV   279   \n",
       "7  2016     Seni dan Desain Desain Komunikasi Visual       DKV   314   \n",
       "8  2017     Seni dan Desain Desain Komunikasi Visual       DKV   337   \n",
       "9  2015     Seni dan Desain Film dan Televisi              FTV   284   \n",
       "10 2016     Seni dan Desain Film dan Televisi              FTV   274   \n",
       "11 2017     Seni dan Desain Film dan Televisi              FTV   300   \n",
       "12 2015     Ilmu Komunikasi Ilmu Komunikasi                ILKOM 499   \n",
       "13 2016     Ilmu Komunikasi Ilmu Komunikasi                ILKOM 275   \n",
       "14 2017     Ilmu Komunikasi Ilmu Komunikasi                ILKOM 313   \n",
       "15 2015     Ilmu Komunikasi Jurnalistik                    JR      1   \n",
       "16 2016     Ilmu Komunikasi Jurnalistik                    JR    251   \n",
       "17 2017     Ilmu Komunikasi Jurnalistik                    JR    186   \n",
       "18 2015     Bisnis          Manajemen                      MAN   169   \n",
       "19 2016     Bisnis          Manajemen                      MAN   163   \n",
       "20 2017     Bisnis          Manajemen                      MAN   160   \n",
       "21 2017     D3 Perhotelan   Perhotelan                     HTL    28   \n",
       "22 2015     ICT             Sistem Informasi               SI    104   \n",
       "23 2016     ICT             Sistem Informasi               SI     95   \n",
       "24 2017     ICT             Sistem Informasi               SI    113   \n",
       "25 2015     ICT             Sistem Komputer                SK     20   \n",
       "26 2016     ICT             Sistem Komputer                SK     20   \n",
       "27 2017     ICT             Sistem Komputer                SK     18   \n",
       "28 2016     ICT             Teknik Elektro                 TE      4   \n",
       "29 2017     ICT             Teknik Elektro                 TE      7   \n",
       "30 2016     ICT             Teknik Fisika                  TF      7   \n",
       "31 2017     ICT             Teknik Fisika                  TF     16   \n",
       "32 2015     ICT             Teknik Informatika             TI    125   \n",
       "33 2016     ICT             Teknik Informatika             TI    168   \n",
       "34 2017     ICT             Teknik Informatika             TI    164   \n",
       "35 2017     ICT             Teknik Informatika Dual Degree TID     6   "
      ]
     },
     "metadata": {},
     "output_type": "display_data"
    }
   ],
   "source": [
    "library(openxlsx) #Importing library for reading .xlsx file\n",
    "read <- read.xlsx(\"https://academy.dqlab.id/dataset/mahasiswa.xlsx\",sheet = \"Sheet 1\")\n",
    "read"
   ]
  },
  {
   "cell_type": "code",
   "execution_count": null,
   "metadata": {},
   "outputs": [],
   "source": [
    "----------------------"
   ]
  },
  {
   "cell_type": "markdown",
   "metadata": {},
   "source": [
    "##### Making graph from .xlsx file"
   ]
  },
  {
   "cell_type": "code",
   "execution_count": 53,
   "metadata": {},
   "outputs": [
    {
     "data": {
      "image/png": "[encoded data removed]",
      "text/plain": [
       "plot without title"
      ]
     },
     "metadata": {},
     "output_type": "display_data"
    }
   ],
   "source": [
    "library(openxlsx) #Importing library for reading .xlsx file\n",
    "read <- read.xlsx(\"https://academy.dqlab.id/dataset/mahasiswa.xlsx\",sheet = \"Sheet 1\")\n",
    "plot <- ggplot(read,aes(x=Fakultas,y=JUMLAH,fill=Fakultas))\n",
    "plot <- plot + geom_bar(width=0.9,stat=\"identity\")\n",
    "plot"
   ]
  },
  {
   "cell_type": "markdown",
   "metadata": {},
   "source": [
    "Learning Source : www.dqlab.id"
   ]
  }
 ],
 "metadata": {
  "kernelspec": {
   "display_name": "R",
   "language": "R",
   "name": "ir"
  },
  "language_info": {
   "codemirror_mode": "r",
   "file_extension": ".r",
   "mimetype": "text/x-r-source",
   "name": "R",
   "pygments_lexer": "r",
   "version": "3.6.1"
  }
 },
 "nbformat": 4,
 "nbformat_minor": 4
}
